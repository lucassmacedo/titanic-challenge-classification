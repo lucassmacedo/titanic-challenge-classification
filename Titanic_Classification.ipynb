{
  "nbformat": 4,
  "nbformat_minor": 0,
  "metadata": {
    "colab": {
      "name": "Titanic Classification.ipynb",
      "provenance": [],
      "collapsed_sections": [],
      "toc_visible": true,
      "mount_file_id": "1kKCmsJslGeylzBd9Lvekr2sMBjvoaoXQ",
      "authorship_tag": "ABX9TyPNgE+NiIdNqwwO0kP1XyOU",
      "include_colab_link": true
    },
    "kernelspec": {
      "name": "python3",
      "display_name": "Python 3"
    }
  },
  "cells": [
    {
      "cell_type": "markdown",
      "metadata": {
        "id": "view-in-github",
        "colab_type": "text"
      },
      "source": [
        "<a href=\"https://colab.research.google.com/github/lucassmacedo/titanic-challenge-classification/blob/master/Titanic_Classification.ipynb\" target=\"_parent\"><img src=\"https://colab.research.google.com/assets/colab-badge.svg\" alt=\"Open In Colab\"/></a>"
      ]
    },
    {
      "cell_type": "markdown",
      "metadata": {
        "id": "GaaGLdrFRpG7"
      },
      "source": [
        "\n",
        "*by [Lucas Macedo](https://www.linkedin.com/in/lucassmacedo//)*\n",
        "\n",
        "---\n",
        "\n",
        "# Análise dos sobreviventes do desastre Titanic\n",
        "\n",
        "A idéia desta análise é trazer insights sobre os dados dos sobreviventes do Titanic e criar um modelo que faça a predição dos sobreviventes.\n",
        "\n",
        "\n",
        "<center><img alt=\"Mapa do RJ\" width=\"40%\" src=\"https://ichef.bbci.co.uk/news/640/cpsprodpb/15A5F/production/_115017688_c6122844-332e-4516-a812-e56991e9374a.jpg\"></center>\n",
        "\n",
        "\n"
      ]
    },
    {
      "cell_type": "markdown",
      "metadata": {
        "id": "ZEflcUrqNSrj"
      },
      "source": [
        "### **Obtenção dos Dados**\n",
        "\n",
        "Os dados usados nesse projeto, foram retirados diretamente do portal de dados aberto do [Kaggle](https://www.kaggle.com/c/titanic/data)  \n",
        "\n",
        "\n",
        "\n"
      ]
    },
    {
      "cell_type": "code",
      "metadata": {
        "id": "W2gNqr0jLIQ-"
      },
      "source": [
        "# Iniciando a Declaração das Bibliotecas\n",
        "import pandas as pd\n",
        "import numpy as np\n",
        "import seaborn as sns\n",
        "import matplotlib.pyplot as plt \n",
        "%matplotlib inline"
      ],
      "execution_count": null,
      "outputs": []
    },
    {
      "cell_type": "code",
      "metadata": {
        "id": "cNV5YTm5Lu3R"
      },
      "source": [
        "# Iniciando os dados de Treino e Teste\n",
        "train = pd.read_csv('../content/sample_data/train.csv')\n",
        "test = pd.read_csv('../content/sample_data/test.csv')"
      ],
      "execution_count": null,
      "outputs": []
    },
    {
      "cell_type": "markdown",
      "metadata": {
        "id": "CiF2v3C42Ksu"
      },
      "source": [
        "## Preparação e Limpeza dos dados\n",
        "\n",
        "---\n",
        "\n"
      ]
    },
    {
      "cell_type": "markdown",
      "metadata": {
        "id": "b2YMtvmsOsMF"
      },
      "source": [
        "\n",
        "###Dicionário de variáveis\n",
        "\n",
        "*  **Survived**: Se sobreviveu ou não\n",
        "*  **Pclass**: Ticket de classe(Status socio-econômico)\n",
        "*  **Name** = Nome\n",
        "*  **Sex**: Sexo\n",
        "*  **Age**: Idade\n",
        "*  **SibSp**: Número de irmãos/irmãs ou cônjuges abordo\n",
        "*  **Parch**: Número de pais ou crianças abordo\n",
        "*  **Ticket**: Número do Ticket\n",
        "*  **Fare**: Tarifa paga\n",
        "*  **Cabin**: Número da cabine\n",
        "*  **Embarked**: Porta de embarque"
      ]
    },
    {
      "cell_type": "code",
      "metadata": {
        "id": "26hG6dSET0u7"
      },
      "source": [
        "# Alterando os nomes das colunas para Português\n",
        "train.columns = ['id', 'sobrevivu','classe','nome','sexo','idade','sibSp','Parch','ticket','valor','cabine','portaria'];\n",
        "test.columns = ['id','classe','nome','sexo','idade','sibSp','Parch','ticket','valor','cabine','portaria'];"
      ],
      "execution_count": null,
      "outputs": []
    },
    {
      "cell_type": "markdown",
      "metadata": {
        "id": "hIAwT2kITZLt"
      },
      "source": [
        "Como podemos observar o Dataset possui alguns **Missings Values** sendo necessário um pré processamento para limpeza do mesmo."
      ]
    },
    {
      "cell_type": "code",
      "metadata": {
        "colab": {
          "base_uri": "https://localhost:8080/",
          "height": 204
        },
        "id": "lTAE8j1OLrk_",
        "outputId": "eac6e01f-d8a7-4fee-fe58-54abda0c6c57"
      },
      "source": [
        "train.head()"
      ],
      "execution_count": null,
      "outputs": [
        {
          "output_type": "execute_result",
          "data": {
            "text/html": [
              "<div>\n",
              "<style scoped>\n",
              "    .dataframe tbody tr th:only-of-type {\n",
              "        vertical-align: middle;\n",
              "    }\n",
              "\n",
              "    .dataframe tbody tr th {\n",
              "        vertical-align: top;\n",
              "    }\n",
              "\n",
              "    .dataframe thead th {\n",
              "        text-align: right;\n",
              "    }\n",
              "</style>\n",
              "<table border=\"1\" class=\"dataframe\">\n",
              "  <thead>\n",
              "    <tr style=\"text-align: right;\">\n",
              "      <th></th>\n",
              "      <th>id</th>\n",
              "      <th>sobrevivu</th>\n",
              "      <th>classe</th>\n",
              "      <th>nome</th>\n",
              "      <th>sexo</th>\n",
              "      <th>idade</th>\n",
              "      <th>sibSp</th>\n",
              "      <th>Parch</th>\n",
              "      <th>ticket</th>\n",
              "      <th>valor</th>\n",
              "      <th>cabine</th>\n",
              "      <th>portaria</th>\n",
              "    </tr>\n",
              "  </thead>\n",
              "  <tbody>\n",
              "    <tr>\n",
              "      <th>0</th>\n",
              "      <td>1</td>\n",
              "      <td>0</td>\n",
              "      <td>3</td>\n",
              "      <td>Braund, Mr. Owen Harris</td>\n",
              "      <td>male</td>\n",
              "      <td>22.0</td>\n",
              "      <td>1</td>\n",
              "      <td>0</td>\n",
              "      <td>A/5 21171</td>\n",
              "      <td>7.2500</td>\n",
              "      <td>NaN</td>\n",
              "      <td>S</td>\n",
              "    </tr>\n",
              "    <tr>\n",
              "      <th>1</th>\n",
              "      <td>2</td>\n",
              "      <td>1</td>\n",
              "      <td>1</td>\n",
              "      <td>Cumings, Mrs. John Bradley (Florence Briggs Th...</td>\n",
              "      <td>female</td>\n",
              "      <td>38.0</td>\n",
              "      <td>1</td>\n",
              "      <td>0</td>\n",
              "      <td>PC 17599</td>\n",
              "      <td>71.2833</td>\n",
              "      <td>C85</td>\n",
              "      <td>C</td>\n",
              "    </tr>\n",
              "    <tr>\n",
              "      <th>2</th>\n",
              "      <td>3</td>\n",
              "      <td>1</td>\n",
              "      <td>3</td>\n",
              "      <td>Heikkinen, Miss. Laina</td>\n",
              "      <td>female</td>\n",
              "      <td>26.0</td>\n",
              "      <td>0</td>\n",
              "      <td>0</td>\n",
              "      <td>STON/O2. 3101282</td>\n",
              "      <td>7.9250</td>\n",
              "      <td>NaN</td>\n",
              "      <td>S</td>\n",
              "    </tr>\n",
              "    <tr>\n",
              "      <th>3</th>\n",
              "      <td>4</td>\n",
              "      <td>1</td>\n",
              "      <td>1</td>\n",
              "      <td>Futrelle, Mrs. Jacques Heath (Lily May Peel)</td>\n",
              "      <td>female</td>\n",
              "      <td>35.0</td>\n",
              "      <td>1</td>\n",
              "      <td>0</td>\n",
              "      <td>113803</td>\n",
              "      <td>53.1000</td>\n",
              "      <td>C123</td>\n",
              "      <td>S</td>\n",
              "    </tr>\n",
              "    <tr>\n",
              "      <th>4</th>\n",
              "      <td>5</td>\n",
              "      <td>0</td>\n",
              "      <td>3</td>\n",
              "      <td>Allen, Mr. William Henry</td>\n",
              "      <td>male</td>\n",
              "      <td>35.0</td>\n",
              "      <td>0</td>\n",
              "      <td>0</td>\n",
              "      <td>373450</td>\n",
              "      <td>8.0500</td>\n",
              "      <td>NaN</td>\n",
              "      <td>S</td>\n",
              "    </tr>\n",
              "  </tbody>\n",
              "</table>\n",
              "</div>"
            ],
            "text/plain": [
              "   id  sobrevivu  classe  ...    valor cabine  portaria\n",
              "0   1          0       3  ...   7.2500    NaN         S\n",
              "1   2          1       1  ...  71.2833    C85         C\n",
              "2   3          1       3  ...   7.9250    NaN         S\n",
              "3   4          1       1  ...  53.1000   C123         S\n",
              "4   5          0       3  ...   8.0500    NaN         S\n",
              "\n",
              "[5 rows x 12 columns]"
            ]
          },
          "metadata": {
            "tags": []
          },
          "execution_count": 16
        }
      ]
    },
    {
      "cell_type": "code",
      "metadata": {
        "colab": {
          "base_uri": "https://localhost:8080/"
        },
        "id": "W8XBdrYeeaDJ",
        "outputId": "1b5f39ca-d3d4-4d91-b6df-0b32eca87a7d"
      },
      "source": [
        "test.info()\n",
        "print('_'*40)\n",
        "train.info()"
      ],
      "execution_count": null,
      "outputs": [
        {
          "output_type": "stream",
          "text": [
            "<class 'pandas.core.frame.DataFrame'>\n",
            "RangeIndex: 418 entries, 0 to 417\n",
            "Data columns (total 11 columns):\n",
            " #   Column    Non-Null Count  Dtype  \n",
            "---  ------    --------------  -----  \n",
            " 0   id        418 non-null    int64  \n",
            " 1   classe    418 non-null    int64  \n",
            " 2   nome      418 non-null    object \n",
            " 3   sexo      418 non-null    object \n",
            " 4   idade     332 non-null    float64\n",
            " 5   sibSp     418 non-null    int64  \n",
            " 6   Parch     418 non-null    int64  \n",
            " 7   ticket    418 non-null    object \n",
            " 8   valor     417 non-null    float64\n",
            " 9   cabine    91 non-null     object \n",
            " 10  portaria  418 non-null    object \n",
            "dtypes: float64(2), int64(4), object(5)\n",
            "memory usage: 36.0+ KB\n",
            "________________________________________\n",
            "<class 'pandas.core.frame.DataFrame'>\n",
            "RangeIndex: 891 entries, 0 to 890\n",
            "Data columns (total 12 columns):\n",
            " #   Column     Non-Null Count  Dtype  \n",
            "---  ------     --------------  -----  \n",
            " 0   id         891 non-null    int64  \n",
            " 1   sobrevivu  891 non-null    int64  \n",
            " 2   classe     891 non-null    int64  \n",
            " 3   nome       891 non-null    object \n",
            " 4   sexo       891 non-null    object \n",
            " 5   idade      714 non-null    float64\n",
            " 6   sibSp      891 non-null    int64  \n",
            " 7   Parch      891 non-null    int64  \n",
            " 8   ticket     891 non-null    object \n",
            " 9   valor      891 non-null    float64\n",
            " 10  cabine     204 non-null    object \n",
            " 11  portaria   889 non-null    object \n",
            "dtypes: float64(2), int64(5), object(5)\n",
            "memory usage: 83.7+ KB\n"
          ],
          "name": "stdout"
        }
      ]
    },
    {
      "cell_type": "markdown",
      "metadata": {
        "id": "XX3RhKE_biy1"
      },
      "source": [
        "Percebemos que existem **Missing Values** que precisamos que sejam concertados para que nosso modelo não tenha **out layer**\n"
      ]
    },
    {
      "cell_type": "code",
      "metadata": {
        "colab": {
          "base_uri": "https://localhost:8080/",
          "height": 111
        },
        "id": "kWwTtKn8aYT2",
        "outputId": "a9b2d03e-750e-419e-e0ab-1f05e65913d7"
      },
      "source": [
        "train[train['portaria'].isna()]"
      ],
      "execution_count": null,
      "outputs": [
        {
          "output_type": "execute_result",
          "data": {
            "text/html": [
              "<div>\n",
              "<style scoped>\n",
              "    .dataframe tbody tr th:only-of-type {\n",
              "        vertical-align: middle;\n",
              "    }\n",
              "\n",
              "    .dataframe tbody tr th {\n",
              "        vertical-align: top;\n",
              "    }\n",
              "\n",
              "    .dataframe thead th {\n",
              "        text-align: right;\n",
              "    }\n",
              "</style>\n",
              "<table border=\"1\" class=\"dataframe\">\n",
              "  <thead>\n",
              "    <tr style=\"text-align: right;\">\n",
              "      <th></th>\n",
              "      <th>id</th>\n",
              "      <th>sobrevivu</th>\n",
              "      <th>classe</th>\n",
              "      <th>nome</th>\n",
              "      <th>sexo</th>\n",
              "      <th>idade</th>\n",
              "      <th>sibSp</th>\n",
              "      <th>Parch</th>\n",
              "      <th>ticket</th>\n",
              "      <th>valor</th>\n",
              "      <th>cabine</th>\n",
              "      <th>portaria</th>\n",
              "    </tr>\n",
              "  </thead>\n",
              "  <tbody>\n",
              "    <tr>\n",
              "      <th>61</th>\n",
              "      <td>62</td>\n",
              "      <td>1</td>\n",
              "      <td>1</td>\n",
              "      <td>Icard, Miss. Amelie</td>\n",
              "      <td>female</td>\n",
              "      <td>38.0</td>\n",
              "      <td>0</td>\n",
              "      <td>0</td>\n",
              "      <td>113572</td>\n",
              "      <td>80.0</td>\n",
              "      <td>B28</td>\n",
              "      <td>NaN</td>\n",
              "    </tr>\n",
              "    <tr>\n",
              "      <th>829</th>\n",
              "      <td>830</td>\n",
              "      <td>1</td>\n",
              "      <td>1</td>\n",
              "      <td>Stone, Mrs. George Nelson (Martha Evelyn)</td>\n",
              "      <td>female</td>\n",
              "      <td>62.0</td>\n",
              "      <td>0</td>\n",
              "      <td>0</td>\n",
              "      <td>113572</td>\n",
              "      <td>80.0</td>\n",
              "      <td>B28</td>\n",
              "      <td>NaN</td>\n",
              "    </tr>\n",
              "  </tbody>\n",
              "</table>\n",
              "</div>"
            ],
            "text/plain": [
              "      id  sobrevivu  classe  ... valor cabine  portaria\n",
              "61    62          1       1  ...  80.0    B28       NaN\n",
              "829  830          1       1  ...  80.0    B28       NaN\n",
              "\n",
              "[2 rows x 12 columns]"
            ]
          },
          "metadata": {
            "tags": []
          },
          "execution_count": 18
        }
      ]
    },
    {
      "cell_type": "code",
      "metadata": {
        "id": "Ya0PF4gbbrSf"
      },
      "source": [
        ""
      ],
      "execution_count": null,
      "outputs": []
    },
    {
      "cell_type": "markdown",
      "metadata": {
        "id": "EekEXsSgb04v"
      },
      "source": [
        "Conforme o Gráfico acima os valores acima de 30 são do portão de embarque C  e nossos valores faltantes também tem o valor do ticket de 80, por isso atualziaremos para C o valor da Portaria"
      ]
    },
    {
      "cell_type": "code",
      "metadata": {
        "id": "kbJH41bjcBUP"
      },
      "source": [
        "train[\"portaria\"] = train[\"portaria\"].fillna(\"C\")"
      ],
      "execution_count": null,
      "outputs": []
    },
    {
      "cell_type": "markdown",
      "metadata": {
        "id": "TdUJFAj4cKFo"
      },
      "source": [
        "Agora com os valores da coluna Portaria ajustados, iremos transformalos em números"
      ]
    },
    {
      "cell_type": "code",
      "metadata": {
        "id": "1iH07oVccQSx"
      },
      "source": [
        "portaria = {'S': 1, 'C': 2, 'Q': 3}\n",
        "train[\"portaria\"] = train[\"portaria\"].map(portaria)\n",
        "test[\"portaria\"] = test[\"portaria\"].map(portaria)"
      ],
      "execution_count": null,
      "outputs": []
    },
    {
      "cell_type": "code",
      "metadata": {
        "colab": {
          "base_uri": "https://localhost:8080/"
        },
        "id": "OkUuT3_UcgMT",
        "outputId": "25fd4ee9-2a13-4437-ba70-f04048016a0f"
      },
      "source": [
        "train.info()\n",
        "print('_'*40)\n",
        "test.info()"
      ],
      "execution_count": null,
      "outputs": [
        {
          "output_type": "stream",
          "text": [
            "<class 'pandas.core.frame.DataFrame'>\n",
            "RangeIndex: 891 entries, 0 to 890\n",
            "Data columns (total 12 columns):\n",
            " #   Column     Non-Null Count  Dtype  \n",
            "---  ------     --------------  -----  \n",
            " 0   id         891 non-null    int64  \n",
            " 1   sobrevivu  891 non-null    int64  \n",
            " 2   classe     891 non-null    int64  \n",
            " 3   nome       891 non-null    object \n",
            " 4   sexo       891 non-null    object \n",
            " 5   idade      714 non-null    float64\n",
            " 6   sibSp      891 non-null    int64  \n",
            " 7   Parch      891 non-null    int64  \n",
            " 8   ticket     891 non-null    object \n",
            " 9   valor      891 non-null    float64\n",
            " 10  cabine     204 non-null    object \n",
            " 11  portaria   891 non-null    int64  \n",
            "dtypes: float64(2), int64(6), object(4)\n",
            "memory usage: 83.7+ KB\n",
            "________________________________________\n",
            "<class 'pandas.core.frame.DataFrame'>\n",
            "RangeIndex: 418 entries, 0 to 417\n",
            "Data columns (total 11 columns):\n",
            " #   Column    Non-Null Count  Dtype  \n",
            "---  ------    --------------  -----  \n",
            " 0   id        418 non-null    int64  \n",
            " 1   classe    418 non-null    int64  \n",
            " 2   nome      418 non-null    object \n",
            " 3   sexo      418 non-null    object \n",
            " 4   idade     332 non-null    float64\n",
            " 5   sibSp     418 non-null    int64  \n",
            " 6   Parch     418 non-null    int64  \n",
            " 7   ticket    418 non-null    object \n",
            " 8   valor     417 non-null    float64\n",
            " 9   cabine    91 non-null     object \n",
            " 10  portaria  418 non-null    int64  \n",
            "dtypes: float64(2), int64(5), object(4)\n",
            "memory usage: 36.0+ KB\n"
          ],
          "name": "stdout"
        }
      ]
    },
    {
      "cell_type": "markdown",
      "metadata": {
        "id": "75pb2S6Aje37"
      },
      "source": [
        "Lembrando que o Objetivo é deixar os valores totais de cada coluna sendoo mesmo do total de entradas, ou seja sem valores nulos."
      ]
    },
    {
      "cell_type": "markdown",
      "metadata": {
        "id": "_EQ6C_gujsbK"
      },
      "source": [
        "Agora vamos para a coluna **Idade**, este campo eu escolhi preencher da seguinte forma: Mulheres = Média de Mulheres, Homens = Média de Homens"
      ]
    },
    {
      "cell_type": "code",
      "metadata": {
        "colab": {
          "base_uri": "https://localhost:8080/",
          "height": 419
        },
        "id": "G40zswSDjsII",
        "outputId": "e7539450-e7be-4b0c-e53c-6a73ee8d88b1"
      },
      "source": [
        "train[train['idade'].isnull()]"
      ],
      "execution_count": null,
      "outputs": [
        {
          "output_type": "execute_result",
          "data": {
            "text/html": [
              "<div>\n",
              "<style scoped>\n",
              "    .dataframe tbody tr th:only-of-type {\n",
              "        vertical-align: middle;\n",
              "    }\n",
              "\n",
              "    .dataframe tbody tr th {\n",
              "        vertical-align: top;\n",
              "    }\n",
              "\n",
              "    .dataframe thead th {\n",
              "        text-align: right;\n",
              "    }\n",
              "</style>\n",
              "<table border=\"1\" class=\"dataframe\">\n",
              "  <thead>\n",
              "    <tr style=\"text-align: right;\">\n",
              "      <th></th>\n",
              "      <th>id</th>\n",
              "      <th>sobrevivu</th>\n",
              "      <th>classe</th>\n",
              "      <th>nome</th>\n",
              "      <th>sexo</th>\n",
              "      <th>idade</th>\n",
              "      <th>sibSp</th>\n",
              "      <th>Parch</th>\n",
              "      <th>ticket</th>\n",
              "      <th>valor</th>\n",
              "      <th>cabine</th>\n",
              "      <th>portaria</th>\n",
              "    </tr>\n",
              "  </thead>\n",
              "  <tbody>\n",
              "    <tr>\n",
              "      <th>5</th>\n",
              "      <td>6</td>\n",
              "      <td>0</td>\n",
              "      <td>3</td>\n",
              "      <td>Moran, Mr. James</td>\n",
              "      <td>male</td>\n",
              "      <td>NaN</td>\n",
              "      <td>0</td>\n",
              "      <td>0</td>\n",
              "      <td>330877</td>\n",
              "      <td>8.4583</td>\n",
              "      <td>NaN</td>\n",
              "      <td>3</td>\n",
              "    </tr>\n",
              "    <tr>\n",
              "      <th>17</th>\n",
              "      <td>18</td>\n",
              "      <td>1</td>\n",
              "      <td>2</td>\n",
              "      <td>Williams, Mr. Charles Eugene</td>\n",
              "      <td>male</td>\n",
              "      <td>NaN</td>\n",
              "      <td>0</td>\n",
              "      <td>0</td>\n",
              "      <td>244373</td>\n",
              "      <td>13.0000</td>\n",
              "      <td>NaN</td>\n",
              "      <td>1</td>\n",
              "    </tr>\n",
              "    <tr>\n",
              "      <th>19</th>\n",
              "      <td>20</td>\n",
              "      <td>1</td>\n",
              "      <td>3</td>\n",
              "      <td>Masselmani, Mrs. Fatima</td>\n",
              "      <td>female</td>\n",
              "      <td>NaN</td>\n",
              "      <td>0</td>\n",
              "      <td>0</td>\n",
              "      <td>2649</td>\n",
              "      <td>7.2250</td>\n",
              "      <td>NaN</td>\n",
              "      <td>2</td>\n",
              "    </tr>\n",
              "    <tr>\n",
              "      <th>26</th>\n",
              "      <td>27</td>\n",
              "      <td>0</td>\n",
              "      <td>3</td>\n",
              "      <td>Emir, Mr. Farred Chehab</td>\n",
              "      <td>male</td>\n",
              "      <td>NaN</td>\n",
              "      <td>0</td>\n",
              "      <td>0</td>\n",
              "      <td>2631</td>\n",
              "      <td>7.2250</td>\n",
              "      <td>NaN</td>\n",
              "      <td>2</td>\n",
              "    </tr>\n",
              "    <tr>\n",
              "      <th>28</th>\n",
              "      <td>29</td>\n",
              "      <td>1</td>\n",
              "      <td>3</td>\n",
              "      <td>O'Dwyer, Miss. Ellen \"Nellie\"</td>\n",
              "      <td>female</td>\n",
              "      <td>NaN</td>\n",
              "      <td>0</td>\n",
              "      <td>0</td>\n",
              "      <td>330959</td>\n",
              "      <td>7.8792</td>\n",
              "      <td>NaN</td>\n",
              "      <td>3</td>\n",
              "    </tr>\n",
              "    <tr>\n",
              "      <th>...</th>\n",
              "      <td>...</td>\n",
              "      <td>...</td>\n",
              "      <td>...</td>\n",
              "      <td>...</td>\n",
              "      <td>...</td>\n",
              "      <td>...</td>\n",
              "      <td>...</td>\n",
              "      <td>...</td>\n",
              "      <td>...</td>\n",
              "      <td>...</td>\n",
              "      <td>...</td>\n",
              "      <td>...</td>\n",
              "    </tr>\n",
              "    <tr>\n",
              "      <th>859</th>\n",
              "      <td>860</td>\n",
              "      <td>0</td>\n",
              "      <td>3</td>\n",
              "      <td>Razi, Mr. Raihed</td>\n",
              "      <td>male</td>\n",
              "      <td>NaN</td>\n",
              "      <td>0</td>\n",
              "      <td>0</td>\n",
              "      <td>2629</td>\n",
              "      <td>7.2292</td>\n",
              "      <td>NaN</td>\n",
              "      <td>2</td>\n",
              "    </tr>\n",
              "    <tr>\n",
              "      <th>863</th>\n",
              "      <td>864</td>\n",
              "      <td>0</td>\n",
              "      <td>3</td>\n",
              "      <td>Sage, Miss. Dorothy Edith \"Dolly\"</td>\n",
              "      <td>female</td>\n",
              "      <td>NaN</td>\n",
              "      <td>8</td>\n",
              "      <td>2</td>\n",
              "      <td>CA. 2343</td>\n",
              "      <td>69.5500</td>\n",
              "      <td>NaN</td>\n",
              "      <td>1</td>\n",
              "    </tr>\n",
              "    <tr>\n",
              "      <th>868</th>\n",
              "      <td>869</td>\n",
              "      <td>0</td>\n",
              "      <td>3</td>\n",
              "      <td>van Melkebeke, Mr. Philemon</td>\n",
              "      <td>male</td>\n",
              "      <td>NaN</td>\n",
              "      <td>0</td>\n",
              "      <td>0</td>\n",
              "      <td>345777</td>\n",
              "      <td>9.5000</td>\n",
              "      <td>NaN</td>\n",
              "      <td>1</td>\n",
              "    </tr>\n",
              "    <tr>\n",
              "      <th>878</th>\n",
              "      <td>879</td>\n",
              "      <td>0</td>\n",
              "      <td>3</td>\n",
              "      <td>Laleff, Mr. Kristo</td>\n",
              "      <td>male</td>\n",
              "      <td>NaN</td>\n",
              "      <td>0</td>\n",
              "      <td>0</td>\n",
              "      <td>349217</td>\n",
              "      <td>7.8958</td>\n",
              "      <td>NaN</td>\n",
              "      <td>1</td>\n",
              "    </tr>\n",
              "    <tr>\n",
              "      <th>888</th>\n",
              "      <td>889</td>\n",
              "      <td>0</td>\n",
              "      <td>3</td>\n",
              "      <td>Johnston, Miss. Catherine Helen \"Carrie\"</td>\n",
              "      <td>female</td>\n",
              "      <td>NaN</td>\n",
              "      <td>1</td>\n",
              "      <td>2</td>\n",
              "      <td>W./C. 6607</td>\n",
              "      <td>23.4500</td>\n",
              "      <td>NaN</td>\n",
              "      <td>1</td>\n",
              "    </tr>\n",
              "  </tbody>\n",
              "</table>\n",
              "<p>177 rows × 12 columns</p>\n",
              "</div>"
            ],
            "text/plain": [
              "      id  sobrevivu  classe  ...    valor cabine  portaria\n",
              "5      6          0       3  ...   8.4583    NaN         3\n",
              "17    18          1       2  ...  13.0000    NaN         1\n",
              "19    20          1       3  ...   7.2250    NaN         2\n",
              "26    27          0       3  ...   7.2250    NaN         2\n",
              "28    29          1       3  ...   7.8792    NaN         3\n",
              "..   ...        ...     ...  ...      ...    ...       ...\n",
              "859  860          0       3  ...   7.2292    NaN         2\n",
              "863  864          0       3  ...  69.5500    NaN         1\n",
              "868  869          0       3  ...   9.5000    NaN         1\n",
              "878  879          0       3  ...   7.8958    NaN         1\n",
              "888  889          0       3  ...  23.4500    NaN         1\n",
              "\n",
              "[177 rows x 12 columns]"
            ]
          },
          "metadata": {
            "tags": []
          },
          "execution_count": 22
        }
      ]
    },
    {
      "cell_type": "code",
      "metadata": {
        "id": "OsKvF9zcjriw"
      },
      "source": [
        "media_mulheres = train[train['sexo'] == 'female']['idade'].median();\n",
        "train.loc[train['sexo'] == 'female','idade'] = train.loc[train['sexo'] == 'female','idade'].fillna(media_mulheres);\n",
        "\n",
        "media_homens = train[train['sexo'] == 'male']['idade'].median();\n",
        "train.loc[train['sexo'] == 'male','idade'] = train.loc[train['sexo'] == 'male','idade'].fillna(media_homens)\n",
        "\n",
        "\n",
        "media_mulheres = test[test['sexo'] == 'female']['idade'].median();\n",
        "test.loc[test['sexo'] == 'female','idade'] = test.loc[test['sexo'] == 'female','idade'].fillna(media_mulheres);\n",
        "\n",
        "media_homens = test[test['sexo'] == 'male']['idade'].median();\n",
        "test.loc[test['sexo'] == 'male','idade'] = test.loc[test['sexo'] == 'male','idade'].fillna(media_homens)\n",
        "\n",
        "\n"
      ],
      "execution_count": null,
      "outputs": []
    },
    {
      "cell_type": "code",
      "metadata": {
        "colab": {
          "base_uri": "https://localhost:8080/"
        },
        "id": "huP9V4PVmnNt",
        "outputId": "6a717962-2ac0-4a12-a18a-a5ed208fd8c5"
      },
      "source": [
        "train.info()\n",
        "print('_'*40)\n",
        "test.info()"
      ],
      "execution_count": null,
      "outputs": [
        {
          "output_type": "stream",
          "text": [
            "<class 'pandas.core.frame.DataFrame'>\n",
            "RangeIndex: 891 entries, 0 to 890\n",
            "Data columns (total 12 columns):\n",
            " #   Column     Non-Null Count  Dtype  \n",
            "---  ------     --------------  -----  \n",
            " 0   id         891 non-null    int64  \n",
            " 1   sobrevivu  891 non-null    int64  \n",
            " 2   classe     891 non-null    int64  \n",
            " 3   nome       891 non-null    object \n",
            " 4   sexo       891 non-null    object \n",
            " 5   idade      891 non-null    float64\n",
            " 6   sibSp      891 non-null    int64  \n",
            " 7   Parch      891 non-null    int64  \n",
            " 8   ticket     891 non-null    object \n",
            " 9   valor      891 non-null    float64\n",
            " 10  cabine     204 non-null    object \n",
            " 11  portaria   891 non-null    int64  \n",
            "dtypes: float64(2), int64(6), object(4)\n",
            "memory usage: 83.7+ KB\n",
            "________________________________________\n",
            "<class 'pandas.core.frame.DataFrame'>\n",
            "RangeIndex: 418 entries, 0 to 417\n",
            "Data columns (total 11 columns):\n",
            " #   Column    Non-Null Count  Dtype  \n",
            "---  ------    --------------  -----  \n",
            " 0   id        418 non-null    int64  \n",
            " 1   classe    418 non-null    int64  \n",
            " 2   nome      418 non-null    object \n",
            " 3   sexo      418 non-null    object \n",
            " 4   idade     418 non-null    float64\n",
            " 5   sibSp     418 non-null    int64  \n",
            " 6   Parch     418 non-null    int64  \n",
            " 7   ticket    418 non-null    object \n",
            " 8   valor     417 non-null    float64\n",
            " 9   cabine    91 non-null     object \n",
            " 10  portaria  418 non-null    int64  \n",
            "dtypes: float64(2), int64(5), object(4)\n",
            "memory usage: 36.0+ KB\n"
          ],
          "name": "stdout"
        }
      ]
    },
    {
      "cell_type": "markdown",
      "metadata": {
        "id": "gTa40ppcqFig"
      },
      "source": [
        "Aqui existe um problema. A coluna Cabine tem muitos valores nullos e eu não encontrei uma lógica para preencher os valores faltantes de forma que faça sentido. Por isso eu resolvi cortados fora. A Variavel Ticket também não tem influencia direta no modelo por ser apenas o número da passagem."
      ]
    },
    {
      "cell_type": "code",
      "metadata": {
        "id": "SkZT65Qxmj_8"
      },
      "source": [
        "remover = [\"cabine\", \"ticket\"]\n",
        "train = train.drop(remover, axis = 1)\n",
        "test = test.drop(remover, axis = 1)"
      ],
      "execution_count": null,
      "outputs": []
    },
    {
      "cell_type": "code",
      "metadata": {
        "colab": {
          "base_uri": "https://localhost:8080/"
        },
        "id": "04r5ct3ic6dj",
        "outputId": "a7c9f245-4df4-4c3d-d760-8ce6fb2c8ede"
      },
      "source": [
        "train.info()\n",
        "print('_'*40)\n",
        "test.info()"
      ],
      "execution_count": null,
      "outputs": [
        {
          "output_type": "stream",
          "text": [
            "<class 'pandas.core.frame.DataFrame'>\n",
            "RangeIndex: 891 entries, 0 to 890\n",
            "Data columns (total 10 columns):\n",
            " #   Column     Non-Null Count  Dtype  \n",
            "---  ------     --------------  -----  \n",
            " 0   id         891 non-null    int64  \n",
            " 1   sobrevivu  891 non-null    int64  \n",
            " 2   classe     891 non-null    int64  \n",
            " 3   nome       891 non-null    object \n",
            " 4   sexo       891 non-null    object \n",
            " 5   idade      891 non-null    float64\n",
            " 6   sibSp      891 non-null    int64  \n",
            " 7   Parch      891 non-null    int64  \n",
            " 8   valor      891 non-null    float64\n",
            " 9   portaria   891 non-null    int64  \n",
            "dtypes: float64(2), int64(6), object(2)\n",
            "memory usage: 69.7+ KB\n",
            "________________________________________\n",
            "<class 'pandas.core.frame.DataFrame'>\n",
            "RangeIndex: 418 entries, 0 to 417\n",
            "Data columns (total 9 columns):\n",
            " #   Column    Non-Null Count  Dtype  \n",
            "---  ------    --------------  -----  \n",
            " 0   id        418 non-null    int64  \n",
            " 1   classe    418 non-null    int64  \n",
            " 2   nome      418 non-null    object \n",
            " 3   sexo      418 non-null    object \n",
            " 4   idade     418 non-null    float64\n",
            " 5   sibSp     418 non-null    int64  \n",
            " 6   Parch     418 non-null    int64  \n",
            " 7   valor     417 non-null    float64\n",
            " 8   portaria  418 non-null    int64  \n",
            "dtypes: float64(2), int64(5), object(2)\n",
            "memory usage: 29.5+ KB\n"
          ],
          "name": "stdout"
        }
      ]
    },
    {
      "cell_type": "markdown",
      "metadata": {
        "id": "sumVmLwosb_z"
      },
      "source": [
        "Agora nos resta apenas uma coluna com valores faltantes que é a coluna Valor do dataset de Test"
      ]
    },
    {
      "cell_type": "code",
      "metadata": {
        "colab": {
          "base_uri": "https://localhost:8080/",
          "height": 80
        },
        "id": "ufrF791cqlzY",
        "outputId": "a0cd0038-beec-4e1a-89a4-819cb01c61ed"
      },
      "source": [
        "test[test['valor'].isnull()]"
      ],
      "execution_count": null,
      "outputs": [
        {
          "output_type": "execute_result",
          "data": {
            "text/html": [
              "<div>\n",
              "<style scoped>\n",
              "    .dataframe tbody tr th:only-of-type {\n",
              "        vertical-align: middle;\n",
              "    }\n",
              "\n",
              "    .dataframe tbody tr th {\n",
              "        vertical-align: top;\n",
              "    }\n",
              "\n",
              "    .dataframe thead th {\n",
              "        text-align: right;\n",
              "    }\n",
              "</style>\n",
              "<table border=\"1\" class=\"dataframe\">\n",
              "  <thead>\n",
              "    <tr style=\"text-align: right;\">\n",
              "      <th></th>\n",
              "      <th>id</th>\n",
              "      <th>classe</th>\n",
              "      <th>nome</th>\n",
              "      <th>sexo</th>\n",
              "      <th>idade</th>\n",
              "      <th>sibSp</th>\n",
              "      <th>Parch</th>\n",
              "      <th>valor</th>\n",
              "      <th>portaria</th>\n",
              "    </tr>\n",
              "  </thead>\n",
              "  <tbody>\n",
              "    <tr>\n",
              "      <th>152</th>\n",
              "      <td>1044</td>\n",
              "      <td>3</td>\n",
              "      <td>Storey, Mr. Thomas</td>\n",
              "      <td>male</td>\n",
              "      <td>60.5</td>\n",
              "      <td>0</td>\n",
              "      <td>0</td>\n",
              "      <td>NaN</td>\n",
              "      <td>1</td>\n",
              "    </tr>\n",
              "  </tbody>\n",
              "</table>\n",
              "</div>"
            ],
            "text/plain": [
              "       id  classe                nome  sexo  ...  sibSp  Parch  valor  portaria\n",
              "152  1044       3  Storey, Mr. Thomas  male  ...      0      0    NaN         1\n",
              "\n",
              "[1 rows x 9 columns]"
            ]
          },
          "metadata": {
            "tags": []
          },
          "execution_count": 27
        }
      ]
    },
    {
      "cell_type": "markdown",
      "metadata": {
        "id": "wXP6JS0zslIs"
      },
      "source": [
        "Que iremos preencher com a média do preço das passagens do portão de embaque 1"
      ]
    },
    {
      "cell_type": "code",
      "metadata": {
        "colab": {
          "base_uri": "https://localhost:8080/",
          "height": 80
        },
        "id": "IACnf73xskjw",
        "outputId": "19c61bcd-748f-4911-8668-c43f2b53610d"
      },
      "source": [
        "test[test['valor'].isnull()]"
      ],
      "execution_count": null,
      "outputs": [
        {
          "output_type": "execute_result",
          "data": {
            "text/html": [
              "<div>\n",
              "<style scoped>\n",
              "    .dataframe tbody tr th:only-of-type {\n",
              "        vertical-align: middle;\n",
              "    }\n",
              "\n",
              "    .dataframe tbody tr th {\n",
              "        vertical-align: top;\n",
              "    }\n",
              "\n",
              "    .dataframe thead th {\n",
              "        text-align: right;\n",
              "    }\n",
              "</style>\n",
              "<table border=\"1\" class=\"dataframe\">\n",
              "  <thead>\n",
              "    <tr style=\"text-align: right;\">\n",
              "      <th></th>\n",
              "      <th>id</th>\n",
              "      <th>classe</th>\n",
              "      <th>nome</th>\n",
              "      <th>sexo</th>\n",
              "      <th>idade</th>\n",
              "      <th>sibSp</th>\n",
              "      <th>Parch</th>\n",
              "      <th>valor</th>\n",
              "      <th>portaria</th>\n",
              "    </tr>\n",
              "  </thead>\n",
              "  <tbody>\n",
              "    <tr>\n",
              "      <th>152</th>\n",
              "      <td>1044</td>\n",
              "      <td>3</td>\n",
              "      <td>Storey, Mr. Thomas</td>\n",
              "      <td>male</td>\n",
              "      <td>60.5</td>\n",
              "      <td>0</td>\n",
              "      <td>0</td>\n",
              "      <td>NaN</td>\n",
              "      <td>1</td>\n",
              "    </tr>\n",
              "  </tbody>\n",
              "</table>\n",
              "</div>"
            ],
            "text/plain": [
              "       id  classe                nome  sexo  ...  sibSp  Parch  valor  portaria\n",
              "152  1044       3  Storey, Mr. Thomas  male  ...      0      0    NaN         1\n",
              "\n",
              "[1 rows x 9 columns]"
            ]
          },
          "metadata": {
            "tags": []
          },
          "execution_count": 28
        }
      ]
    },
    {
      "cell_type": "code",
      "metadata": {
        "id": "2aeJrbbPsiAf"
      },
      "source": [
        "valor_medio = test[test['portaria'] == 1]['valor'].mean();\n",
        "\n",
        "test.loc[test['portaria'] == 1,'valor'] = test.loc[test['portaria'] == 1,'valor'].fillna(valor_medio);\n",
        "\n"
      ],
      "execution_count": null,
      "outputs": []
    },
    {
      "cell_type": "code",
      "metadata": {
        "colab": {
          "base_uri": "https://localhost:8080/"
        },
        "id": "f7wYh0Z7yYLe",
        "outputId": "de91b85a-8f4f-4456-e66c-148f3b502b2b"
      },
      "source": [
        "train.info()\n",
        "print('_'*40)\n",
        "test.info()"
      ],
      "execution_count": null,
      "outputs": [
        {
          "output_type": "stream",
          "text": [
            "<class 'pandas.core.frame.DataFrame'>\n",
            "RangeIndex: 891 entries, 0 to 890\n",
            "Data columns (total 10 columns):\n",
            " #   Column     Non-Null Count  Dtype  \n",
            "---  ------     --------------  -----  \n",
            " 0   id         891 non-null    int64  \n",
            " 1   sobrevivu  891 non-null    int64  \n",
            " 2   classe     891 non-null    int64  \n",
            " 3   nome       891 non-null    object \n",
            " 4   sexo       891 non-null    object \n",
            " 5   idade      891 non-null    float64\n",
            " 6   sibSp      891 non-null    int64  \n",
            " 7   Parch      891 non-null    int64  \n",
            " 8   valor      891 non-null    float64\n",
            " 9   portaria   891 non-null    int64  \n",
            "dtypes: float64(2), int64(6), object(2)\n",
            "memory usage: 69.7+ KB\n",
            "________________________________________\n",
            "<class 'pandas.core.frame.DataFrame'>\n",
            "RangeIndex: 418 entries, 0 to 417\n",
            "Data columns (total 9 columns):\n",
            " #   Column    Non-Null Count  Dtype  \n",
            "---  ------    --------------  -----  \n",
            " 0   id        418 non-null    int64  \n",
            " 1   classe    418 non-null    int64  \n",
            " 2   nome      418 non-null    object \n",
            " 3   sexo      418 non-null    object \n",
            " 4   idade     418 non-null    float64\n",
            " 5   sibSp     418 non-null    int64  \n",
            " 6   Parch     418 non-null    int64  \n",
            " 7   valor     418 non-null    float64\n",
            " 8   portaria  418 non-null    int64  \n",
            "dtypes: float64(2), int64(5), object(2)\n",
            "memory usage: 29.5+ KB\n"
          ],
          "name": "stdout"
        }
      ]
    },
    {
      "cell_type": "markdown",
      "metadata": {
        "id": "yy9EsX312ST6"
      },
      "source": [
        "Pronto, agora os 2 datasets de teste e treino estão prontos para ser usados."
      ]
    },
    {
      "cell_type": "markdown",
      "metadata": {
        "id": "3y9GEuoeQ1fK"
      },
      "source": [
        "\n",
        "\n",
        "```\n",
        "# This is formatted as code\n",
        "```\n",
        "\n",
        "##Análise do Dados\n",
        "\n",
        "Após alguns tratamentos feito na base, começaremos as análises no *dataset*.\n",
        "\n",
        "<center><img alt=\"Analise\" width=\"40%\" src=\"https://image.freepik.com/free-vector/flat-design-scientist-holding-dna-molecules-illustration_23-2148536282.jpg\"></center>"
      ]
    },
    {
      "cell_type": "code",
      "metadata": {
        "colab": {
          "base_uri": "https://localhost:8080/"
        },
        "id": "fXttsjElSj3G",
        "outputId": "f2c5ad00-e4a2-4495-ad37-2c3182fab021"
      },
      "source": [
        "test.describe()"
      ],
      "execution_count": null,
      "outputs": [
        {
          "output_type": "error",
          "ename": "NameError",
          "evalue": "ignored",
          "traceback": [
            "\u001b[0;31m---------------------------------------------------------------------------\u001b[0m",
            "\u001b[0;31mNameError\u001b[0m                                 Traceback (most recent call last)",
            "\u001b[0;32m<ipython-input-1-6f207d50b4e2>\u001b[0m in \u001b[0;36m<module>\u001b[0;34m()\u001b[0m\n\u001b[0;32m----> 1\u001b[0;31m \u001b[0mtest\u001b[0m\u001b[0;34m.\u001b[0m\u001b[0mdescribe\u001b[0m\u001b[0;34m(\u001b[0m\u001b[0;34m)\u001b[0m\u001b[0;34m\u001b[0m\u001b[0;34m\u001b[0m\u001b[0m\n\u001b[0m",
            "\u001b[0;31mNameError\u001b[0m: name 'test' is not defined"
          ]
        }
      ]
    },
    {
      "cell_type": "code",
      "metadata": {
        "id": "Rz7Yv9P40NGs"
      },
      "source": [
        ""
      ],
      "execution_count": null,
      "outputs": []
    }
  ]
}