{
  "nbformat": 4,
  "nbformat_minor": 0,
  "metadata": {
    "colab": {
      "name": "Titanic Classification 2.0.ipynb",
      "provenance": [],
      "collapsed_sections": [],
      "include_colab_link": true
    },
    "kernelspec": {
      "name": "python3",
      "display_name": "Python 3"
    }
  },
  "cells": [
    {
      "cell_type": "markdown",
      "metadata": {
        "id": "view-in-github",
        "colab_type": "text"
      },
      "source": [
        "<a href=\"https://colab.research.google.com/github/lucassmacedo/titanic-challenge-classification/blob/master/Titanic_Classification_2_0.ipynb\" target=\"_parent\"><img src=\"https://colab.research.google.com/assets/colab-badge.svg\" alt=\"Open In Colab\"/></a>"
      ]
    },
    {
      "cell_type": "markdown",
      "metadata": {
        "id": "GaaGLdrFRpG7"
      },
      "source": [
        "\n",
        "*by [Lucas Macedo](https://www.linkedin.com/in/lucassmacedo//)*\n",
        "\n",
        "---\n",
        "\n",
        "# Análise dos sobreviventes do desastre Titanic 2.0\n",
        "\n",
        "A idéia desta análise é trazer insights sobre os dados dos sobreviventes do Titanic e criar um modelo que faça a predição dos sobreviventes.\n",
        "\n",
        "\n",
        "<center><img alt=\"Mapa do RJ\" width=\"40%\" src=\"https://ichef.bbci.co.uk/news/640/cpsprodpb/15A5F/production/_115017688_c6122844-332e-4516-a812-e56991e9374a.jpg\"></center>\n",
        "\n",
        "\n"
      ]
    },
    {
      "cell_type": "markdown",
      "metadata": {
        "id": "ZEflcUrqNSrj"
      },
      "source": [
        "### **Obtenção dos Dados**\n",
        "\n",
        "Os dados usados nesse projeto, foram retirados diretamente do portal de dados aberto do [Kaggle](https://www.kaggle.com/c/titanic/data)  \n",
        "\n",
        "\n",
        "\n"
      ]
    },
    {
      "cell_type": "markdown",
      "metadata": {
        "id": "_4ZaaxZjStmx"
      },
      "source": [
        "## Importando as bibliotecas"
      ]
    },
    {
      "cell_type": "code",
      "metadata": {
        "id": "W2gNqr0jLIQ-"
      },
      "source": [
        "#Algebra Linear\n",
        "import numpy as np \n",
        "\n",
        "# Processamento/manipulação dos dados\n",
        "import pandas as pd \n",
        "\n",
        "# Visualização dos dados\n",
        "import seaborn as sns\n",
        "%matplotlib inline\n",
        "from matplotlib import pyplot as plt\n",
        "from matplotlib import style\n",
        "\n",
        "#Algoritimos Machine Learning\n",
        "from sklearn import linear_model\n",
        "from sklearn.linear_model import LogisticRegression\n",
        "from sklearn.ensemble import RandomForestClassifier\n",
        "from sklearn.linear_model import Perceptron\n",
        "from sklearn.neural_network import MLPClassifier\n",
        "from sklearn.linear_model import SGDClassifier\n",
        "from sklearn.tree import DecisionTreeClassifier\n",
        "from sklearn.neighbors import KNeighborsClassifier\n",
        "from sklearn.svm import SVC, LinearSVC\n",
        "from sklearn.naive_bayes import GaussianNB\n",
        "from sklearn.metrics import classification_report, confusion_matrix \n",
        "from sklearn.model_selection import cross_val_predict\n"
      ],
      "execution_count": null,
      "outputs": []
    },
    {
      "cell_type": "code",
      "metadata": {
        "id": "cNV5YTm5Lu3R"
      },
      "source": [
        "# Iniciando os dados de Treino e Teste\n",
        "test_df = pd.read_csv('https://raw.githubusercontent.com/lucassmacedo/titanic-challenge-classification/master/test.csv')\n",
        "train_df = pd.read_csv('https://raw.githubusercontent.com/lucassmacedo/titanic-challenge-classification/master/train.csv')"
      ],
      "execution_count": null,
      "outputs": []
    },
    {
      "cell_type": "markdown",
      "metadata": {
        "id": "CiF2v3C42Ksu"
      },
      "source": [
        "## Exploração/Análise de Dados\n",
        "\n",
        "---\n",
        "\n"
      ]
    },
    {
      "cell_type": "code",
      "metadata": {
        "colab": {
          "base_uri": "https://localhost:8080/"
        },
        "id": "OekaD-rcT-zQ",
        "outputId": "7d6acf16-de76-41de-c919-d8d7c909d5bd"
      },
      "source": [
        "train_df.info()\n"
      ],
      "execution_count": null,
      "outputs": [
        {
          "output_type": "stream",
          "text": [
            "<class 'pandas.core.frame.DataFrame'>\n",
            "RangeIndex: 891 entries, 0 to 890\n",
            "Data columns (total 12 columns):\n",
            " #   Column       Non-Null Count  Dtype  \n",
            "---  ------       --------------  -----  \n",
            " 0   PassengerId  891 non-null    int64  \n",
            " 1   Survived     891 non-null    int64  \n",
            " 2   Pclass       891 non-null    int64  \n",
            " 3   Name         891 non-null    object \n",
            " 4   Sex          891 non-null    object \n",
            " 5   Age          714 non-null    float64\n",
            " 6   SibSp        891 non-null    int64  \n",
            " 7   Parch        891 non-null    int64  \n",
            " 8   Ticket       891 non-null    object \n",
            " 9   Fare         891 non-null    float64\n",
            " 10  Cabin        204 non-null    object \n",
            " 11  Embarked     889 non-null    object \n",
            "dtypes: float64(2), int64(5), object(5)\n",
            "memory usage: 83.7+ KB\n"
          ],
          "name": "stdout"
        }
      ]
    },
    {
      "cell_type": "markdown",
      "metadata": {
        "id": "3hj9E4tJUDI6"
      },
      "source": [
        "O conjunto de treinamento tem 891 exemplos e 11 características + a variável de destino (Survived)."
      ]
    },
    {
      "cell_type": "markdown",
      "metadata": {
        "id": "b2YMtvmsOsMF"
      },
      "source": [
        "\n",
        "###Dicionário de variáveis\n",
        "\n",
        "*  **Survived**: Se sobreviveu ou não\n",
        "*  **Pclass**: Ticket de classe(Status socio-econômico)\n",
        "*  **Name** = Nome\n",
        "*  **Sex**: Sexo\n",
        "*  **Age**: Idade\n",
        "*  **SibSp**: Número de irmãos/irmãs ou cônjuges abordo\n",
        "*  **Parch**: Número de pais ou crianças abordo\n",
        "*  **Ticket**: Número do Ticket\n",
        "*  **Fare**: Tarifa paga\n",
        "*  **Cabin**: Número da cabine\n",
        "*  **Embarked**: Porta de embarque"
      ]
    },
    {
      "cell_type": "code",
      "metadata": {
        "id": "26hG6dSET0u7",
        "colab": {
          "base_uri": "https://localhost:8080/",
          "height": 297
        },
        "outputId": "5ce7b0c3-7f66-40d5-abc5-9f2a085e648f"
      },
      "source": [
        "train_df.describe()"
      ],
      "execution_count": null,
      "outputs": [
        {
          "output_type": "execute_result",
          "data": {
            "text/html": [
              "<div>\n",
              "<style scoped>\n",
              "    .dataframe tbody tr th:only-of-type {\n",
              "        vertical-align: middle;\n",
              "    }\n",
              "\n",
              "    .dataframe tbody tr th {\n",
              "        vertical-align: top;\n",
              "    }\n",
              "\n",
              "    .dataframe thead th {\n",
              "        text-align: right;\n",
              "    }\n",
              "</style>\n",
              "<table border=\"1\" class=\"dataframe\">\n",
              "  <thead>\n",
              "    <tr style=\"text-align: right;\">\n",
              "      <th></th>\n",
              "      <th>PassengerId</th>\n",
              "      <th>Survived</th>\n",
              "      <th>Pclass</th>\n",
              "      <th>Age</th>\n",
              "      <th>SibSp</th>\n",
              "      <th>Parch</th>\n",
              "      <th>Fare</th>\n",
              "    </tr>\n",
              "  </thead>\n",
              "  <tbody>\n",
              "    <tr>\n",
              "      <th>count</th>\n",
              "      <td>891.000000</td>\n",
              "      <td>891.000000</td>\n",
              "      <td>891.000000</td>\n",
              "      <td>714.000000</td>\n",
              "      <td>891.000000</td>\n",
              "      <td>891.000000</td>\n",
              "      <td>891.000000</td>\n",
              "    </tr>\n",
              "    <tr>\n",
              "      <th>mean</th>\n",
              "      <td>446.000000</td>\n",
              "      <td>0.383838</td>\n",
              "      <td>2.308642</td>\n",
              "      <td>29.699118</td>\n",
              "      <td>0.523008</td>\n",
              "      <td>0.381594</td>\n",
              "      <td>32.204208</td>\n",
              "    </tr>\n",
              "    <tr>\n",
              "      <th>std</th>\n",
              "      <td>257.353842</td>\n",
              "      <td>0.486592</td>\n",
              "      <td>0.836071</td>\n",
              "      <td>14.526497</td>\n",
              "      <td>1.102743</td>\n",
              "      <td>0.806057</td>\n",
              "      <td>49.693429</td>\n",
              "    </tr>\n",
              "    <tr>\n",
              "      <th>min</th>\n",
              "      <td>1.000000</td>\n",
              "      <td>0.000000</td>\n",
              "      <td>1.000000</td>\n",
              "      <td>0.420000</td>\n",
              "      <td>0.000000</td>\n",
              "      <td>0.000000</td>\n",
              "      <td>0.000000</td>\n",
              "    </tr>\n",
              "    <tr>\n",
              "      <th>25%</th>\n",
              "      <td>223.500000</td>\n",
              "      <td>0.000000</td>\n",
              "      <td>2.000000</td>\n",
              "      <td>20.125000</td>\n",
              "      <td>0.000000</td>\n",
              "      <td>0.000000</td>\n",
              "      <td>7.910400</td>\n",
              "    </tr>\n",
              "    <tr>\n",
              "      <th>50%</th>\n",
              "      <td>446.000000</td>\n",
              "      <td>0.000000</td>\n",
              "      <td>3.000000</td>\n",
              "      <td>28.000000</td>\n",
              "      <td>0.000000</td>\n",
              "      <td>0.000000</td>\n",
              "      <td>14.454200</td>\n",
              "    </tr>\n",
              "    <tr>\n",
              "      <th>75%</th>\n",
              "      <td>668.500000</td>\n",
              "      <td>1.000000</td>\n",
              "      <td>3.000000</td>\n",
              "      <td>38.000000</td>\n",
              "      <td>1.000000</td>\n",
              "      <td>0.000000</td>\n",
              "      <td>31.000000</td>\n",
              "    </tr>\n",
              "    <tr>\n",
              "      <th>max</th>\n",
              "      <td>891.000000</td>\n",
              "      <td>1.000000</td>\n",
              "      <td>3.000000</td>\n",
              "      <td>80.000000</td>\n",
              "      <td>8.000000</td>\n",
              "      <td>6.000000</td>\n",
              "      <td>512.329200</td>\n",
              "    </tr>\n",
              "  </tbody>\n",
              "</table>\n",
              "</div>"
            ],
            "text/plain": [
              "       PassengerId    Survived      Pclass  ...       SibSp       Parch        Fare\n",
              "count   891.000000  891.000000  891.000000  ...  891.000000  891.000000  891.000000\n",
              "mean    446.000000    0.383838    2.308642  ...    0.523008    0.381594   32.204208\n",
              "std     257.353842    0.486592    0.836071  ...    1.102743    0.806057   49.693429\n",
              "min       1.000000    0.000000    1.000000  ...    0.000000    0.000000    0.000000\n",
              "25%     223.500000    0.000000    2.000000  ...    0.000000    0.000000    7.910400\n",
              "50%     446.000000    0.000000    3.000000  ...    0.000000    0.000000   14.454200\n",
              "75%     668.500000    1.000000    3.000000  ...    1.000000    0.000000   31.000000\n",
              "max     891.000000    1.000000    3.000000  ...    8.000000    6.000000  512.329200\n",
              "\n",
              "[8 rows x 7 columns]"
            ]
          },
          "metadata": {
            "tags": []
          },
          "execution_count": 37
        }
      ]
    },
    {
      "cell_type": "markdown",
      "metadata": {
        "id": "aCD0aGNIUcug"
      },
      "source": [
        "Acima podemos ver que 38% do conjunto de treinamento sobreviveu ao Titanic. Também podemos ver que as idades dos passageiros variam de 0,4 a 80. Além disso, já podemos detectar alguns recursos que contêm valores ausentes, como o recurso \"Age\".\n",
        "\n"
      ]
    },
    {
      "cell_type": "code",
      "metadata": {
        "colab": {
          "base_uri": "https://localhost:8080/",
          "height": 514
        },
        "id": "lTAE8j1OLrk_",
        "outputId": "61ae5f93-62e3-4482-94d6-933e9efd0df8"
      },
      "source": [
        "train_df.head(15)"
      ],
      "execution_count": null,
      "outputs": [
        {
          "output_type": "execute_result",
          "data": {
            "text/html": [
              "<div>\n",
              "<style scoped>\n",
              "    .dataframe tbody tr th:only-of-type {\n",
              "        vertical-align: middle;\n",
              "    }\n",
              "\n",
              "    .dataframe tbody tr th {\n",
              "        vertical-align: top;\n",
              "    }\n",
              "\n",
              "    .dataframe thead th {\n",
              "        text-align: right;\n",
              "    }\n",
              "</style>\n",
              "<table border=\"1\" class=\"dataframe\">\n",
              "  <thead>\n",
              "    <tr style=\"text-align: right;\">\n",
              "      <th></th>\n",
              "      <th>PassengerId</th>\n",
              "      <th>Survived</th>\n",
              "      <th>Pclass</th>\n",
              "      <th>Name</th>\n",
              "      <th>Sex</th>\n",
              "      <th>Age</th>\n",
              "      <th>SibSp</th>\n",
              "      <th>Parch</th>\n",
              "      <th>Ticket</th>\n",
              "      <th>Fare</th>\n",
              "      <th>Cabin</th>\n",
              "      <th>Embarked</th>\n",
              "    </tr>\n",
              "  </thead>\n",
              "  <tbody>\n",
              "    <tr>\n",
              "      <th>0</th>\n",
              "      <td>1</td>\n",
              "      <td>0</td>\n",
              "      <td>3</td>\n",
              "      <td>Braund, Mr. Owen Harris</td>\n",
              "      <td>male</td>\n",
              "      <td>22.0</td>\n",
              "      <td>1</td>\n",
              "      <td>0</td>\n",
              "      <td>A/5 21171</td>\n",
              "      <td>7.2500</td>\n",
              "      <td>NaN</td>\n",
              "      <td>S</td>\n",
              "    </tr>\n",
              "    <tr>\n",
              "      <th>1</th>\n",
              "      <td>2</td>\n",
              "      <td>1</td>\n",
              "      <td>1</td>\n",
              "      <td>Cumings, Mrs. John Bradley (Florence Briggs Th...</td>\n",
              "      <td>female</td>\n",
              "      <td>38.0</td>\n",
              "      <td>1</td>\n",
              "      <td>0</td>\n",
              "      <td>PC 17599</td>\n",
              "      <td>71.2833</td>\n",
              "      <td>C85</td>\n",
              "      <td>C</td>\n",
              "    </tr>\n",
              "    <tr>\n",
              "      <th>2</th>\n",
              "      <td>3</td>\n",
              "      <td>1</td>\n",
              "      <td>3</td>\n",
              "      <td>Heikkinen, Miss. Laina</td>\n",
              "      <td>female</td>\n",
              "      <td>26.0</td>\n",
              "      <td>0</td>\n",
              "      <td>0</td>\n",
              "      <td>STON/O2. 3101282</td>\n",
              "      <td>7.9250</td>\n",
              "      <td>NaN</td>\n",
              "      <td>S</td>\n",
              "    </tr>\n",
              "    <tr>\n",
              "      <th>3</th>\n",
              "      <td>4</td>\n",
              "      <td>1</td>\n",
              "      <td>1</td>\n",
              "      <td>Futrelle, Mrs. Jacques Heath (Lily May Peel)</td>\n",
              "      <td>female</td>\n",
              "      <td>35.0</td>\n",
              "      <td>1</td>\n",
              "      <td>0</td>\n",
              "      <td>113803</td>\n",
              "      <td>53.1000</td>\n",
              "      <td>C123</td>\n",
              "      <td>S</td>\n",
              "    </tr>\n",
              "    <tr>\n",
              "      <th>4</th>\n",
              "      <td>5</td>\n",
              "      <td>0</td>\n",
              "      <td>3</td>\n",
              "      <td>Allen, Mr. William Henry</td>\n",
              "      <td>male</td>\n",
              "      <td>35.0</td>\n",
              "      <td>0</td>\n",
              "      <td>0</td>\n",
              "      <td>373450</td>\n",
              "      <td>8.0500</td>\n",
              "      <td>NaN</td>\n",
              "      <td>S</td>\n",
              "    </tr>\n",
              "    <tr>\n",
              "      <th>5</th>\n",
              "      <td>6</td>\n",
              "      <td>0</td>\n",
              "      <td>3</td>\n",
              "      <td>Moran, Mr. James</td>\n",
              "      <td>male</td>\n",
              "      <td>NaN</td>\n",
              "      <td>0</td>\n",
              "      <td>0</td>\n",
              "      <td>330877</td>\n",
              "      <td>8.4583</td>\n",
              "      <td>NaN</td>\n",
              "      <td>Q</td>\n",
              "    </tr>\n",
              "    <tr>\n",
              "      <th>6</th>\n",
              "      <td>7</td>\n",
              "      <td>0</td>\n",
              "      <td>1</td>\n",
              "      <td>McCarthy, Mr. Timothy J</td>\n",
              "      <td>male</td>\n",
              "      <td>54.0</td>\n",
              "      <td>0</td>\n",
              "      <td>0</td>\n",
              "      <td>17463</td>\n",
              "      <td>51.8625</td>\n",
              "      <td>E46</td>\n",
              "      <td>S</td>\n",
              "    </tr>\n",
              "    <tr>\n",
              "      <th>7</th>\n",
              "      <td>8</td>\n",
              "      <td>0</td>\n",
              "      <td>3</td>\n",
              "      <td>Palsson, Master. Gosta Leonard</td>\n",
              "      <td>male</td>\n",
              "      <td>2.0</td>\n",
              "      <td>3</td>\n",
              "      <td>1</td>\n",
              "      <td>349909</td>\n",
              "      <td>21.0750</td>\n",
              "      <td>NaN</td>\n",
              "      <td>S</td>\n",
              "    </tr>\n",
              "    <tr>\n",
              "      <th>8</th>\n",
              "      <td>9</td>\n",
              "      <td>1</td>\n",
              "      <td>3</td>\n",
              "      <td>Johnson, Mrs. Oscar W (Elisabeth Vilhelmina Berg)</td>\n",
              "      <td>female</td>\n",
              "      <td>27.0</td>\n",
              "      <td>0</td>\n",
              "      <td>2</td>\n",
              "      <td>347742</td>\n",
              "      <td>11.1333</td>\n",
              "      <td>NaN</td>\n",
              "      <td>S</td>\n",
              "    </tr>\n",
              "    <tr>\n",
              "      <th>9</th>\n",
              "      <td>10</td>\n",
              "      <td>1</td>\n",
              "      <td>2</td>\n",
              "      <td>Nasser, Mrs. Nicholas (Adele Achem)</td>\n",
              "      <td>female</td>\n",
              "      <td>14.0</td>\n",
              "      <td>1</td>\n",
              "      <td>0</td>\n",
              "      <td>237736</td>\n",
              "      <td>30.0708</td>\n",
              "      <td>NaN</td>\n",
              "      <td>C</td>\n",
              "    </tr>\n",
              "    <tr>\n",
              "      <th>10</th>\n",
              "      <td>11</td>\n",
              "      <td>1</td>\n",
              "      <td>3</td>\n",
              "      <td>Sandstrom, Miss. Marguerite Rut</td>\n",
              "      <td>female</td>\n",
              "      <td>4.0</td>\n",
              "      <td>1</td>\n",
              "      <td>1</td>\n",
              "      <td>PP 9549</td>\n",
              "      <td>16.7000</td>\n",
              "      <td>G6</td>\n",
              "      <td>S</td>\n",
              "    </tr>\n",
              "    <tr>\n",
              "      <th>11</th>\n",
              "      <td>12</td>\n",
              "      <td>1</td>\n",
              "      <td>1</td>\n",
              "      <td>Bonnell, Miss. Elizabeth</td>\n",
              "      <td>female</td>\n",
              "      <td>58.0</td>\n",
              "      <td>0</td>\n",
              "      <td>0</td>\n",
              "      <td>113783</td>\n",
              "      <td>26.5500</td>\n",
              "      <td>C103</td>\n",
              "      <td>S</td>\n",
              "    </tr>\n",
              "    <tr>\n",
              "      <th>12</th>\n",
              "      <td>13</td>\n",
              "      <td>0</td>\n",
              "      <td>3</td>\n",
              "      <td>Saundercock, Mr. William Henry</td>\n",
              "      <td>male</td>\n",
              "      <td>20.0</td>\n",
              "      <td>0</td>\n",
              "      <td>0</td>\n",
              "      <td>A/5. 2151</td>\n",
              "      <td>8.0500</td>\n",
              "      <td>NaN</td>\n",
              "      <td>S</td>\n",
              "    </tr>\n",
              "    <tr>\n",
              "      <th>13</th>\n",
              "      <td>14</td>\n",
              "      <td>0</td>\n",
              "      <td>3</td>\n",
              "      <td>Andersson, Mr. Anders Johan</td>\n",
              "      <td>male</td>\n",
              "      <td>39.0</td>\n",
              "      <td>1</td>\n",
              "      <td>5</td>\n",
              "      <td>347082</td>\n",
              "      <td>31.2750</td>\n",
              "      <td>NaN</td>\n",
              "      <td>S</td>\n",
              "    </tr>\n",
              "    <tr>\n",
              "      <th>14</th>\n",
              "      <td>15</td>\n",
              "      <td>0</td>\n",
              "      <td>3</td>\n",
              "      <td>Vestrom, Miss. Hulda Amanda Adolfina</td>\n",
              "      <td>female</td>\n",
              "      <td>14.0</td>\n",
              "      <td>0</td>\n",
              "      <td>0</td>\n",
              "      <td>350406</td>\n",
              "      <td>7.8542</td>\n",
              "      <td>NaN</td>\n",
              "      <td>S</td>\n",
              "    </tr>\n",
              "  </tbody>\n",
              "</table>\n",
              "</div>"
            ],
            "text/plain": [
              "    PassengerId  Survived  Pclass  ...     Fare Cabin  Embarked\n",
              "0             1         0       3  ...   7.2500   NaN         S\n",
              "1             2         1       1  ...  71.2833   C85         C\n",
              "2             3         1       3  ...   7.9250   NaN         S\n",
              "3             4         1       1  ...  53.1000  C123         S\n",
              "4             5         0       3  ...   8.0500   NaN         S\n",
              "5             6         0       3  ...   8.4583   NaN         Q\n",
              "6             7         0       1  ...  51.8625   E46         S\n",
              "7             8         0       3  ...  21.0750   NaN         S\n",
              "8             9         1       3  ...  11.1333   NaN         S\n",
              "9            10         1       2  ...  30.0708   NaN         C\n",
              "10           11         1       3  ...  16.7000    G6         S\n",
              "11           12         1       1  ...  26.5500  C103         S\n",
              "12           13         0       3  ...   8.0500   NaN         S\n",
              "13           14         0       3  ...  31.2750   NaN         S\n",
              "14           15         0       3  ...   7.8542   NaN         S\n",
              "\n",
              "[15 rows x 12 columns]"
            ]
          },
          "metadata": {
            "tags": []
          },
          "execution_count": 38
        }
      ]
    },
    {
      "cell_type": "code",
      "metadata": {
        "id": "W8XBdrYeeaDJ"
      },
      "source": [
        ""
      ],
      "execution_count": null,
      "outputs": []
    },
    {
      "cell_type": "markdown",
      "metadata": {
        "id": "XX3RhKE_biy1"
      },
      "source": [
        "Analisando o dataset, percebemos que precisamos converter muitos valores para números/binário, para que os algoritmos de Machine Learning possam processá-los. Além disso, podemos ver que algumas colunas têm intervalos muito distante, que precisaremos converter para a mesma escala. Também podemos detectar mais algumas colunas que contêm Missing Values, que precisam ser tratados."
      ]
    },
    {
      "cell_type": "code",
      "metadata": {
        "colab": {
          "base_uri": "https://localhost:8080/",
          "height": 204
        },
        "id": "kWwTtKn8aYT2",
        "outputId": "305bc954-dc6d-49c5-a2f8-513084c69419"
      },
      "source": [
        "total = train_df.isnull().sum().sort_values(ascending=False)\n",
        "percent_1 = train_df.isnull().sum()/train_df.isnull().count()*100\n",
        "percent_2 = (round(percent_1, 1)).sort_values(ascending=False)\n",
        "missing_data = pd.concat([total, percent_2], axis=1, keys=['Total', '%'])\n",
        "missing_data.head(5)"
      ],
      "execution_count": null,
      "outputs": [
        {
          "output_type": "execute_result",
          "data": {
            "text/html": [
              "<div>\n",
              "<style scoped>\n",
              "    .dataframe tbody tr th:only-of-type {\n",
              "        vertical-align: middle;\n",
              "    }\n",
              "\n",
              "    .dataframe tbody tr th {\n",
              "        vertical-align: top;\n",
              "    }\n",
              "\n",
              "    .dataframe thead th {\n",
              "        text-align: right;\n",
              "    }\n",
              "</style>\n",
              "<table border=\"1\" class=\"dataframe\">\n",
              "  <thead>\n",
              "    <tr style=\"text-align: right;\">\n",
              "      <th></th>\n",
              "      <th>Total</th>\n",
              "      <th>%</th>\n",
              "    </tr>\n",
              "  </thead>\n",
              "  <tbody>\n",
              "    <tr>\n",
              "      <th>Cabin</th>\n",
              "      <td>687</td>\n",
              "      <td>77.1</td>\n",
              "    </tr>\n",
              "    <tr>\n",
              "      <th>Age</th>\n",
              "      <td>177</td>\n",
              "      <td>19.9</td>\n",
              "    </tr>\n",
              "    <tr>\n",
              "      <th>Embarked</th>\n",
              "      <td>2</td>\n",
              "      <td>0.2</td>\n",
              "    </tr>\n",
              "    <tr>\n",
              "      <th>Fare</th>\n",
              "      <td>0</td>\n",
              "      <td>0.0</td>\n",
              "    </tr>\n",
              "    <tr>\n",
              "      <th>Ticket</th>\n",
              "      <td>0</td>\n",
              "      <td>0.0</td>\n",
              "    </tr>\n",
              "  </tbody>\n",
              "</table>\n",
              "</div>"
            ],
            "text/plain": [
              "          Total     %\n",
              "Cabin       687  77.1\n",
              "Age         177  19.9\n",
              "Embarked      2   0.2\n",
              "Fare          0   0.0\n",
              "Ticket        0   0.0"
            ]
          },
          "metadata": {
            "tags": []
          },
          "execution_count": 39
        }
      ]
    },
    {
      "cell_type": "markdown",
      "metadata": {
        "id": "o0UmXIVcVykf"
      },
      "source": [
        "A Coluna **Embarked** tem apenas dois valores ausentes, que podem ser facilmente preenchidos. Será muito mais complicado lidar com o recurso 'Age', que tem 177 valores em falta. O recurso '**Cabin**' precisa de uma analise mais aprofundada pois 77% dele está faltando.\n",
        "\n"
      ]
    },
    {
      "cell_type": "code",
      "metadata": {
        "id": "Ya0PF4gbbrSf",
        "colab": {
          "base_uri": "https://localhost:8080/"
        },
        "outputId": "1c37c0b7-8946-4c0f-a35c-3c5b1831737a"
      },
      "source": [
        "train_df.columns.values"
      ],
      "execution_count": null,
      "outputs": [
        {
          "output_type": "execute_result",
          "data": {
            "text/plain": [
              "array(['PassengerId', 'Survived', 'Pclass', 'Name', 'Sex', 'Age', 'SibSp',\n",
              "       'Parch', 'Ticket', 'Fare', 'Cabin', 'Embarked'], dtype=object)"
            ]
          },
          "metadata": {
            "tags": []
          },
          "execution_count": 40
        }
      ]
    },
    {
      "cell_type": "markdown",
      "metadata": {
        "id": "EekEXsSgb04v"
      },
      "source": [
        "Acima temos 11 colunas + a coluna de destino (Survived).\n",
        "**A Principal pergunta seria: Quais colunas são essenciais para definir a taxa de sobrevivencia?**\n",
        "\n",
        "Percebemos que todas tem importancia, porem as que possivelmente tem menos impacto são : ** 'PassengerId', 'Ticket' e 'Name'**"
      ]
    },
    {
      "cell_type": "markdown",
      "metadata": {
        "id": "Ts8v3wQvWwXC"
      },
      "source": [
        "**1. Idade e Sexo:**"
      ]
    },
    {
      "cell_type": "code",
      "metadata": {
        "id": "kbJH41bjcBUP",
        "colab": {
          "base_uri": "https://localhost:8080/",
          "height": 451
        },
        "outputId": "e70881ad-53d8-492b-e5ec-4fdfbc4fcc8d"
      },
      "source": [
        "#Definimos os labels\n",
        "survived = 'Survived'\n",
        "not_survived = 'Not Survived'\n",
        "\n",
        "# definindo a estrutura do plot\n",
        "fig, axes = plt.subplots(nrows=1, ncols=2,figsize=(10, 4))\n",
        "\n",
        "# filtramos os homens e mulheres\n",
        "women = train_df[train_df['Sex']=='female']\n",
        "men = train_df[train_df['Sex']=='male']\n",
        "\n",
        "# Montamos o plot com Idade de todas as mulheres que Sobrevieram e  Não sobreviveram\n",
        "ax = sns.distplot(women[women['Survived']==1].Age.dropna(), bins=18, label = survived, ax = axes[0], kde =False)\n",
        "ax = sns.distplot(women[women['Survived']==0].Age.dropna(), bins=40, label = not_survived, ax = axes[0], kde =False)\n",
        "ax.legend()\n",
        "ax.set_title('Female')\n",
        "\n",
        "\n",
        "# Montamos o plot com Idade de todas as Homens que Sobrevieram e  Não sobreviveram\n",
        "ax = sns.distplot(men[men['Survived']==1].Age.dropna(), bins=18, label = survived, ax = axes[1], kde = False)\n",
        "ax = sns.distplot(men[men['Survived']==0].Age.dropna(), bins=40, label = not_survived, ax = axes[1], kde = False)\n",
        "ax.legend()\n",
        "_ = ax.set_title('Male')"
      ],
      "execution_count": null,
      "outputs": [
        {
          "output_type": "stream",
          "text": [
            "/usr/local/lib/python3.7/dist-packages/seaborn/distributions.py:2557: FutureWarning: `distplot` is a deprecated function and will be removed in a future version. Please adapt your code to use either `displot` (a figure-level function with similar flexibility) or `histplot` (an axes-level function for histograms).\n",
            "  warnings.warn(msg, FutureWarning)\n",
            "/usr/local/lib/python3.7/dist-packages/seaborn/distributions.py:2557: FutureWarning: `distplot` is a deprecated function and will be removed in a future version. Please adapt your code to use either `displot` (a figure-level function with similar flexibility) or `histplot` (an axes-level function for histograms).\n",
            "  warnings.warn(msg, FutureWarning)\n",
            "/usr/local/lib/python3.7/dist-packages/seaborn/distributions.py:2557: FutureWarning: `distplot` is a deprecated function and will be removed in a future version. Please adapt your code to use either `displot` (a figure-level function with similar flexibility) or `histplot` (an axes-level function for histograms).\n",
            "  warnings.warn(msg, FutureWarning)\n",
            "/usr/local/lib/python3.7/dist-packages/seaborn/distributions.py:2557: FutureWarning: `distplot` is a deprecated function and will be removed in a future version. Please adapt your code to use either `displot` (a figure-level function with similar flexibility) or `histplot` (an axes-level function for histograms).\n",
            "  warnings.warn(msg, FutureWarning)\n"
          ],
          "name": "stderr"
        },
        {
          "output_type": "display_data",
          "data": {
            "image/png": "[encoded data removed]",
            "text/plain": [
              "<Figure size 720x288 with 2 Axes>"
            ]
          },
          "metadata": {
            "tags": [],
            "needs_background": "light"
          }
        }
      ]
    },
    {
      "cell_type": "markdown",
      "metadata": {
        "id": "7YKXv3xdXnd3"
      },
      "source": [
        "Pela análise que fizemos acima percebemos que homens têm uma muito mais probabliidade de sobrevivência quando têm entre 18 e 30 anos.Para as mulheres também percebemos que a chance  de sobrevivência são maiores entre 14 e 40 anos.\n",
        "\n",
        "Percebemos também que para homens a probabilidade de sobrevivência é muito baixa entre 5 e 18 anos, porem para as mulheres esse probabilidade muda. \n",
        "\n",
        "Percebemos que a classica fala do filme \"Mulheres e crianças primeiro\" se faz verdade em nossa análise."
      ]
    },
    {
      "cell_type": "markdown",
      "metadata": {
        "id": "75pb2S6Aje37"
      },
      "source": [
        "**3. Embarcação, Classes de bilhetes e Sexo:**"
      ]
    },
    {
      "cell_type": "code",
      "metadata": {
        "colab": {
          "base_uri": "https://localhost:8080/",
          "height": 1000
        },
        "id": "G40zswSDjsII",
        "outputId": "91f422bc-df8b-4720-fb4a-2283dd2bb47f"
      },
      "source": [
        "FacetGrid = sns.FacetGrid(train_df, row='Embarked', size=4.5, aspect=1.6)\n",
        "FacetGrid.map(sns.pointplot, 'Pclass', 'Survived', 'Sex', palette=\"muted\",  order=None, hue_order=None )\n",
        "FacetGrid.add_legend()"
      ],
      "execution_count": null,
      "outputs": [
        {
          "output_type": "stream",
          "text": [
            "/usr/local/lib/python3.7/dist-packages/seaborn/axisgrid.py:316: UserWarning: The `size` parameter has been renamed to `height`; please update your code.\n",
            "  warnings.warn(msg, UserWarning)\n"
          ],
          "name": "stderr"
        },
        {
          "output_type": "execute_result",
          "data": {
            "text/plain": [
              "<seaborn.axisgrid.FacetGrid at 0x7fa4dc533dd0>"
            ]
          },
          "metadata": {
            "tags": []
          },
          "execution_count": 42
        },
        {
          "output_type": "display_data",
          "data": {
            "image/png": "[encoded data removed]",
            "text/plain": [
              "<Figure size 588.9x972 with 3 Axes>"
            ]
          },
          "metadata": {
            "tags": [],
            "needs_background": "light"
          }
        }
      ]
    },
    {
      "cell_type": "markdown",
      "metadata": {
        "id": "-uvPUnVJa8uQ"
      },
      "source": [
        "Percebemos que **Embarked** dos sobreviventes é relativo ao Sexo.\n",
        "\n",
        "\n",
        "As mulheres no Portão Q e no portão S têm mais chance de sobreviver. Os homens tem mais chanse de sobreviver  se estiverem no portão C, e menos chanse se estiverem no portão Q ou S."
      ]
    },
    {
      "cell_type": "markdown",
      "metadata": {
        "id": "sumVmLwosb_z"
      },
      "source": [
        "**4. Pclass:**"
      ]
    },
    {
      "cell_type": "code",
      "metadata": {
        "colab": {
          "base_uri": "https://localhost:8080/",
          "height": 296
        },
        "id": "ufrF791cqlzY",
        "outputId": "e86f01d8-87fc-4cb6-c7f6-4a4adcd74c4f"
      },
      "source": [
        "sns.barplot(x='Pclass', y='Survived', data=train_df)\n"
      ],
      "execution_count": null,
      "outputs": [
        {
          "output_type": "execute_result",
          "data": {
            "text/plain": [
              "<matplotlib.axes._subplots.AxesSubplot at 0x7fa4d2e89690>"
            ]
          },
          "metadata": {
            "tags": []
          },
          "execution_count": 43
        },
        {
          "output_type": "display_data",
          "data": {
            "image/png": "[encoded data removed]",
            "text/plain": [
              "<Figure size 432x288 with 1 Axes>"
            ]
          },
          "metadata": {
            "tags": [],
            "needs_background": "light"
          }
        }
      ]
    },
    {
      "cell_type": "markdown",
      "metadata": {
        "id": "wXP6JS0zslIs"
      },
      "source": [
        "Aqui vemos uma varaivel que tem um peso consideravel na taxa de sobrevivencia, claramente as chances de sobrevicencia da Class 1 é bem maior que da classe 2 e 3."
      ]
    },
    {
      "cell_type": "code",
      "metadata": {
        "colab": {
          "base_uri": "https://localhost:8080/",
          "height": 539
        },
        "id": "IACnf73xskjw",
        "outputId": "d38cad92-d0fa-4864-cfd4-76890625b7b7"
      },
      "source": [
        "grid = sns.FacetGrid(train_df, col='Survived', row='Pclass', size=2.2, aspect=1.6)\n",
        "grid.map(plt.hist, 'Age', alpha=.5, bins=20)\n",
        "grid.add_legend();"
      ],
      "execution_count": null,
      "outputs": [
        {
          "output_type": "stream",
          "text": [
            "/usr/local/lib/python3.7/dist-packages/seaborn/axisgrid.py:316: UserWarning: The `size` parameter has been renamed to `height`; please update your code.\n",
            "  warnings.warn(msg, UserWarning)\n"
          ],
          "name": "stderr"
        },
        {
          "output_type": "display_data",
          "data": {
            "image/png": "[encoded data removed]",
            "text/plain": [
              "<Figure size 514.88x475.2 with 6 Axes>"
            ]
          },
          "metadata": {
            "tags": [],
            "needs_background": "light"
          }
        }
      ]
    },
    {
      "cell_type": "markdown",
      "metadata": {
        "id": "YCRLnTxGcNCx"
      },
      "source": [
        "O gráfico acima confirma a analise de que os passageiros da Class 1, tem maiores chances de sobrevivencia do que os passageiros da Class 2 e 3.\n",
        "\n"
      ]
    },
    {
      "cell_type": "markdown",
      "metadata": {
        "id": "ihah6W2fNhxT"
      },
      "source": [
        "## Pré-Processamento de Dados"
      ]
    },
    {
      "cell_type": "code",
      "metadata": {
        "id": "xtc7hdp6cxeX"
      },
      "source": [
        "train_df = train_df.drop(['PassengerId'], axis=1)\n",
        "\n",
        "train_df = train_df.drop(['Cabin'], axis=1)\n",
        "test_df = test_df.drop(['Cabin'], axis=1)\n",
        "\n",
        "train_df = train_df.drop(['Name'], axis=1)\n",
        "test_df = test_df.drop(['Name'], axis=1)\n",
        "\n",
        "train_df = train_df.drop(['Ticket'], axis=1)\n",
        "test_df = test_df.drop(['Ticket'], axis=1)"
      ],
      "execution_count": null,
      "outputs": []
    },
    {
      "cell_type": "markdown",
      "metadata": {
        "id": "tSXjkxaGdNIL"
      },
      "source": [
        "### Dados Ausentes:\n",
        "**Age**:\n",
        "Agora vamos para a coluna Idade, este campo eu escolhi preencher da seguinte forma: Mulheres = Média de Mulheres, Homens = Média de Homens.\n",
        "\n",
        "\n",
        "\n"
      ]
    },
    {
      "cell_type": "code",
      "metadata": {
        "id": "ajI3by-9eTgc"
      },
      "source": [
        "data = [train_df, test_df]\n",
        "\n",
        "for dataset in data:\n",
        "  media_mulheres = dataset[dataset['Sex'] == 'female']['Age'].median();\n",
        "  dataset.loc[dataset['Sex'] == 'female','Age'] = dataset.loc[dataset['Sex'] == 'female','Age'].fillna(media_mulheres);\n",
        "\n",
        "  media_homens = dataset[dataset['Sex'] == 'male']['Age'].median();\n",
        "  dataset.loc[dataset['Sex'] == 'male','Age'] = dataset.loc[dataset['Sex'] == 'male','Age'].fillna(media_homens)\n"
      ],
      "execution_count": null,
      "outputs": []
    },
    {
      "cell_type": "code",
      "metadata": {
        "colab": {
          "base_uri": "https://localhost:8080/"
        },
        "id": "4xXaI5J1g5Sl",
        "outputId": "601125f2-5cfa-4ccd-fb37-8dc67e39ba43"
      },
      "source": [
        "train_df[\"Age\"].isnull().sum()"
      ],
      "execution_count": null,
      "outputs": [
        {
          "output_type": "execute_result",
          "data": {
            "text/plain": [
              "0"
            ]
          },
          "metadata": {
            "tags": []
          },
          "execution_count": 47
        }
      ]
    },
    {
      "cell_type": "markdown",
      "metadata": {
        "id": "NJqcQuq2g-2d"
      },
      "source": [
        "**Embarked**\n",
        "Como a coluna Embarked tem apenas dois valores ausentes, vamos usar a \"moda\" para preencher esse campo, ou seja, o valor que mais se repete."
      ]
    },
    {
      "cell_type": "code",
      "metadata": {
        "colab": {
          "base_uri": "https://localhost:8080/"
        },
        "id": "I7iQ_Jjohj93",
        "outputId": "4f9a8875-5ccd-4d06-ca63-4ab0978c381f"
      },
      "source": [
        "train_df['Embarked'].describe()\n"
      ],
      "execution_count": null,
      "outputs": [
        {
          "output_type": "execute_result",
          "data": {
            "text/plain": [
              "count     889\n",
              "unique      3\n",
              "top         S\n",
              "freq      644\n",
              "Name: Embarked, dtype: object"
            ]
          },
          "metadata": {
            "tags": []
          },
          "execution_count": 48
        }
      ]
    },
    {
      "cell_type": "code",
      "metadata": {
        "id": "cMWUp0X4e2Lg"
      },
      "source": [
        "common_value = 'S'\n",
        "data = [train_df, test_df]\n",
        "\n",
        "for dataset in data:\n",
        "    dataset['Embarked'] = dataset['Embarked'].fillna(common_value)"
      ],
      "execution_count": null,
      "outputs": []
    },
    {
      "cell_type": "code",
      "metadata": {
        "id": "C49NBfSKsUtb"
      },
      "source": [
        "for dataset in data:\n",
        "  fare_mean = dataset['Fare'].mean(); \n",
        "  dataset['Fare'] = dataset['Fare'].fillna(fare_mean)\n"
      ],
      "execution_count": null,
      "outputs": []
    },
    {
      "cell_type": "markdown",
      "metadata": {
        "id": "31CAPs0kcoVU"
      },
      "source": [
        "## Convertendo os Parametros:"
      ]
    },
    {
      "cell_type": "code",
      "metadata": {
        "colab": {
          "base_uri": "https://localhost:8080/"
        },
        "id": "Iby_Cy44poBB",
        "outputId": "d4f5f0f9-943d-4aa6-93f3-b2649b127027"
      },
      "source": [
        "train_df.info()"
      ],
      "execution_count": null,
      "outputs": [
        {
          "output_type": "stream",
          "text": [
            "<class 'pandas.core.frame.DataFrame'>\n",
            "RangeIndex: 891 entries, 0 to 890\n",
            "Data columns (total 8 columns):\n",
            " #   Column    Non-Null Count  Dtype  \n",
            "---  ------    --------------  -----  \n",
            " 0   Survived  891 non-null    int64  \n",
            " 1   Pclass    891 non-null    int64  \n",
            " 2   Sex       891 non-null    object \n",
            " 3   Age       891 non-null    float64\n",
            " 4   SibSp     891 non-null    int64  \n",
            " 5   Parch     891 non-null    int64  \n",
            " 6   Fare      891 non-null    float64\n",
            " 7   Embarked  891 non-null    object \n",
            "dtypes: float64(2), int64(4), object(2)\n",
            "memory usage: 55.8+ KB\n"
          ],
          "name": "stdout"
        }
      ]
    },
    {
      "cell_type": "code",
      "metadata": {
        "id": "K3PFhKaBqbR9"
      },
      "source": [
        ""
      ],
      "execution_count": null,
      "outputs": []
    },
    {
      "cell_type": "markdown",
      "metadata": {
        "id": "dvGiA0hMpwvL"
      },
      "source": [
        "Acima vemos que  '**Fare**' é um float e nós temos que lidar com 4 características categóricas: **Sex e Embarked**.\n"
      ]
    },
    {
      "cell_type": "markdown",
      "metadata": {
        "id": "6eQchhFBqS90"
      },
      "source": [
        "**Sexo**, agora converteremos  **Sex** em binário."
      ]
    },
    {
      "cell_type": "code",
      "metadata": {
        "id": "O2ZxzrQ_qcV-"
      },
      "source": [
        "genders = {\"male\": 0, \"female\": 1}\n",
        "data = [train_df, test_df]\n",
        "\n",
        "for dataset in data:\n",
        "    dataset['Sex'] = dataset['Sex'].map(genders)"
      ],
      "execution_count": null,
      "outputs": []
    },
    {
      "cell_type": "code",
      "metadata": {
        "id": "YYhOLREyqhOP"
      },
      "source": [
        ""
      ],
      "execution_count": null,
      "outputs": []
    },
    {
      "cell_type": "markdown",
      "metadata": {
        "id": "GUjN-kA6q5gn"
      },
      "source": [
        "**Embarked**: agora converteremos **Embarked** para númerico."
      ]
    },
    {
      "cell_type": "code",
      "metadata": {
        "id": "fvQzPHtprBqv"
      },
      "source": [
        "ports = {\"S\": 0, \"C\": 1, \"Q\": 2}\n",
        "data = [train_df, test_df]\n",
        "\n",
        "for dataset in data:\n",
        "    dataset['Embarked'] = dataset['Embarked'].map(ports)"
      ],
      "execution_count": null,
      "outputs": []
    },
    {
      "cell_type": "markdown",
      "metadata": {
        "id": "xaF5cN41sKZy"
      },
      "source": [
        "Fare: agora converteremos o valor da tarifa"
      ]
    },
    {
      "cell_type": "code",
      "metadata": {
        "id": "nZfmYG6LsKPe"
      },
      "source": [
        ""
      ],
      "execution_count": null,
      "outputs": []
    },
    {
      "cell_type": "markdown",
      "metadata": {
        "id": "Xq52EMhIriCq"
      },
      "source": [
        "## Criação dos Modelos de Machine Learning"
      ]
    },
    {
      "cell_type": "code",
      "metadata": {
        "id": "cMQS682yrmGC"
      },
      "source": [
        "X_train = train_df.drop(\"Survived\", axis=1)\n",
        "Y_train = train_df[\"Survived\"]\n",
        "X_test  = test_df.drop(\"PassengerId\", axis=1).copy()"
      ],
      "execution_count": null,
      "outputs": []
    },
    {
      "cell_type": "markdown",
      "metadata": {
        "id": "UANFiayfrtjs"
      },
      "source": [
        "**Stochastic Gradient Descent (SGD) Learning**"
      ]
    },
    {
      "cell_type": "code",
      "metadata": {
        "colab": {
          "base_uri": "https://localhost:8080/"
        },
        "id": "R-daPuebr1wB",
        "outputId": "f07fdcdd-9709-4138-dc11-ae4648d23f10"
      },
      "source": [
        "# https://scikit-learn.org/stable/modules/sgd.html\n",
        "sgd = linear_model.SGDClassifier(max_iter=5, tol=None)\n",
        "sgd.fit(X_train, Y_train)\n",
        "Y_pred = sgd.predict(X_test)\n",
        "\n",
        "sgd.score(X_train, Y_train)\n",
        "\n",
        "acc_sgd = round(sgd.score(X_train, Y_train) * 100, 2)\n",
        "\n",
        "\n",
        "print(round(acc_sgd,2,), \"%\")"
      ],
      "execution_count": null,
      "outputs": [
        {
          "output_type": "stream",
          "text": [
            "70.93 %\n"
          ],
          "name": "stdout"
        }
      ]
    },
    {
      "cell_type": "code",
      "metadata": {
        "id": "Lk9njp6kt7DN"
      },
      "source": [
        ""
      ],
      "execution_count": null,
      "outputs": []
    },
    {
      "cell_type": "markdown",
      "metadata": {
        "id": "ED0eXdnUt5MC"
      },
      "source": [
        "**Random Forest**"
      ]
    },
    {
      "cell_type": "code",
      "metadata": {
        "colab": {
          "base_uri": "https://localhost:8080/"
        },
        "id": "o5MpgZk2t9wN",
        "outputId": "4216cc91-79db-4304-dc2d-ed000b87e22f"
      },
      "source": [
        "# https://scikit-learn.org/stable/modules/generated/sklearn.ensemble.RandomForestClassifier.html\n",
        "random_forest = RandomForestClassifier(n_estimators=100)\n",
        "random_forest.fit(X_train, Y_train)\n",
        "\n",
        "Y_prediction = random_forest.predict(X_test)\n",
        "\n",
        "random_forest.score(X_train, Y_train)\n",
        "acc_random_forest = round(random_forest.score(X_train, Y_train) * 100, 2)\n",
        "print(round(acc_random_forest,2,), \"%\")"
      ],
      "execution_count": null,
      "outputs": [
        {
          "output_type": "stream",
          "text": [
            "97.76 %\n"
          ],
          "name": "stdout"
        }
      ]
    },
    {
      "cell_type": "markdown",
      "metadata": {
        "id": "d3b0f04-uCFD"
      },
      "source": [
        "**Logistic Regression**"
      ]
    },
    {
      "cell_type": "code",
      "metadata": {
        "colab": {
          "base_uri": "https://localhost:8080/"
        },
        "id": "WKpSXIlKuBmE",
        "outputId": "cb8deb80-14e9-4743-f58f-512c609fd070"
      },
      "source": [
        "# https://scikit-learn.org/stable/modules/generated/sklearn.linear_model.LogisticRegression.html\n",
        "logreg = LogisticRegression(max_iter=200)\n",
        "logreg.fit(X_train, Y_train)\n",
        "\n",
        "Y_pred = logreg.predict(X_test)\n",
        "\n",
        "acc_log = round(logreg.score(X_train, Y_train) * 100, 2)\n",
        "print(round(acc_log,2,), \"%\")"
      ],
      "execution_count": null,
      "outputs": [
        {
          "output_type": "stream",
          "text": [
            "80.25 %\n"
          ],
          "name": "stdout"
        }
      ]
    },
    {
      "cell_type": "markdown",
      "metadata": {
        "id": "iXlW0Okuugo4"
      },
      "source": [
        "**KNN**"
      ]
    },
    {
      "cell_type": "code",
      "metadata": {
        "colab": {
          "base_uri": "https://localhost:8080/"
        },
        "id": "xTKt38Miugcw",
        "outputId": "117919c6-f287-4d4b-b30b-7af793670e2f"
      },
      "source": [
        "# https://scikit-learn.org/stable/modules/generated/sklearn.neighbors.KNeighborsClassifier.html\n",
        "knn = KNeighborsClassifier(n_neighbors = 3)\n",
        "knn.fit(X_train, Y_train)\n",
        "\n",
        "Y_pred = knn.predict(X_test)\n",
        "\n",
        "acc_knn = round(knn.score(X_train, Y_train) * 100, 2)\n",
        "print(round(acc_knn,2,), \"%\")"
      ],
      "execution_count": null,
      "outputs": [
        {
          "output_type": "stream",
          "text": [
            "83.73 %\n"
          ],
          "name": "stdout"
        }
      ]
    },
    {
      "cell_type": "markdown",
      "metadata": {
        "id": "coW9XNfgutbH"
      },
      "source": [
        "**Gaussian Naive Bayes** "
      ]
    },
    {
      "cell_type": "code",
      "metadata": {
        "colab": {
          "base_uri": "https://localhost:8080/"
        },
        "id": "L1wx6D4qusPu",
        "outputId": "51dc9265-6e95-4c94-e89a-e34d291a1120"
      },
      "source": [
        "# https://scikit-learn.org/stable/modules/generated/sklearn.naive_bayes.GaussianNB.html\n",
        "gaussian = GaussianNB()\n",
        "gaussian.fit(X_train, Y_train)\n",
        "\n",
        "Y_pred = gaussian.predict(X_test)\n",
        "\n",
        "acc_gaussian = round(gaussian.score(X_train, Y_train) * 100, 2)\n",
        "print(round(acc_gaussian,2,), \"%\")"
      ],
      "execution_count": null,
      "outputs": [
        {
          "output_type": "stream",
          "text": [
            "79.24 %\n"
          ],
          "name": "stdout"
        }
      ]
    },
    {
      "cell_type": "markdown",
      "metadata": {
        "id": "7bLrZP1AvFZr"
      },
      "source": [
        "**Perceptron**"
      ]
    },
    {
      "cell_type": "code",
      "metadata": {
        "colab": {
          "base_uri": "https://localhost:8080/"
        },
        "id": "SmKmlLn-vXqo",
        "outputId": "a2c4334f-ed25-4a1d-831a-f295783010dc"
      },
      "source": [
        "# https://scikit-learn.org/stable/modules/generated/sklearn.linear_model.Perceptron.html\n",
        "perceptron = Perceptron(max_iter=200)\n",
        "perceptron.fit(X_train, Y_train)\n",
        "\n",
        "Y_pred = perceptron.predict(X_test)\n",
        "\n",
        "acc_perceptron = round(perceptron.score(X_train, Y_train) * 100, 2)\n",
        "print(round(acc_perceptron,2,), \"%\")"
      ],
      "execution_count": null,
      "outputs": [
        {
          "output_type": "stream",
          "text": [
            "63.08 %\n"
          ],
          "name": "stdout"
        }
      ]
    },
    {
      "cell_type": "markdown",
      "metadata": {
        "id": "xJ7_wU5fvxxv"
      },
      "source": [
        "**Multi Layer Perceptron**"
      ]
    },
    {
      "cell_type": "code",
      "metadata": {
        "colab": {
          "base_uri": "https://localhost:8080/"
        },
        "id": "kLdtKgHovxm9",
        "outputId": "0561635f-ed08-48d6-e93b-eb29eab9f797"
      },
      "source": [
        "# https://scikit-learn.org/stable/modules/generated/sklearn.neural_network.MLPClassifier.html\n",
        "mlp = MLPClassifier(max_iter=200)\n",
        "mlp.fit(X_train, Y_train)\n",
        "\n",
        "Y_pred = mlp.predict(X_test)\n",
        "\n",
        "acc_mlp = round(mlp.score(X_train, Y_train) * 100, 2)\n",
        "print(round(acc_mlp,2,), \"%\")"
      ],
      "execution_count": null,
      "outputs": [
        {
          "output_type": "stream",
          "text": [
            "82.27 %\n"
          ],
          "name": "stdout"
        }
      ]
    },
    {
      "cell_type": "markdown",
      "metadata": {
        "id": "_j0lpIrWwzpC"
      },
      "source": [
        "**Linear SVC**"
      ]
    },
    {
      "cell_type": "code",
      "metadata": {
        "colab": {
          "base_uri": "https://localhost:8080/"
        },
        "id": "1IhNxKyZwzcv",
        "outputId": "639b7697-f457-4256-963b-9884af76d5a8"
      },
      "source": [
        "# https://scikit-learn.org/stable/modules/generated/sklearn.svm.LinearSVC.html\n",
        "linear_svc = LinearSVC(max_iter=1000)\n",
        "linear_svc.fit(X_train, Y_train)\n",
        "\n",
        "Y_pred = linear_svc.predict(X_test)\n",
        "\n",
        "acc_linear_svc = round(linear_svc.score(X_train, Y_train) * 100, 2)\n",
        "print(round(acc_linear_svc,2,), \"%\")"
      ],
      "execution_count": null,
      "outputs": [
        {
          "output_type": "stream",
          "text": [
            "76.77 %\n"
          ],
          "name": "stdout"
        },
        {
          "output_type": "stream",
          "text": [
            "/usr/local/lib/python3.7/dist-packages/sklearn/svm/_base.py:947: ConvergenceWarning: Liblinear failed to converge, increase the number of iterations.\n",
            "  \"the number of iterations.\", ConvergenceWarning)\n"
          ],
          "name": "stderr"
        }
      ]
    },
    {
      "cell_type": "markdown",
      "metadata": {
        "id": "YRbRKT_kxE_Q"
      },
      "source": [
        "**Decision Tree**"
      ]
    },
    {
      "cell_type": "code",
      "metadata": {
        "colab": {
          "base_uri": "https://localhost:8080/"
        },
        "id": "IjCTRkxYxE2E",
        "outputId": "4e8a25df-6424-4b3c-c4b4-5511dd7bc5ca"
      },
      "source": [
        "# https://scikit-learn.org/stable/modules/tree.html\n",
        "decision_tree = DecisionTreeClassifier()\n",
        "decision_tree.fit(X_train, Y_train)\n",
        "\n",
        "Y_pred = decision_tree.predict(X_test)\n",
        "\n",
        "acc_decision_tree = round(decision_tree.score(X_train, Y_train) * 100, 2)\n",
        "print(round(acc_decision_tree,2,), \"%\")"
      ],
      "execution_count": null,
      "outputs": [
        {
          "output_type": "stream",
          "text": [
            "97.76 %\n"
          ],
          "name": "stdout"
        }
      ]
    },
    {
      "cell_type": "code",
      "metadata": {
        "id": "0GJwjcmM1dqk"
      },
      "source": [
        ""
      ],
      "execution_count": null,
      "outputs": []
    },
    {
      "cell_type": "markdown",
      "metadata": {
        "id": "zjQRFT0TxONa"
      },
      "source": [
        "### Avaliando os modelos"
      ]
    },
    {
      "cell_type": "code",
      "metadata": {
        "colab": {
          "base_uri": "https://localhost:8080/",
          "height": 359
        },
        "id": "Ms8X1FWVxURU",
        "outputId": "aa7f3867-b21c-445e-a72d-ebe713261963"
      },
      "source": [
        "results = pd.DataFrame({\n",
        "    'Model': ['Support Vector Machines', 'KNN', 'Logistic Regression', \n",
        "              'Random Forest', 'Naive Bayes', 'Perceptron', 'Multi Layer Perceptron',\n",
        "              'Stochastic Gradient Decent', \n",
        "              'Decision Tree'],\n",
        "    'Score': [acc_linear_svc, acc_knn, acc_log, \n",
        "              acc_random_forest, acc_gaussian, acc_perceptron, acc_mlp,\n",
        "              acc_sgd, acc_decision_tree]})\n",
        "result_df = results.sort_values(by='Score', ascending=False)\n",
        "result_df = result_df.set_index('Score')\n",
        "result_df.head(9)"
      ],
      "execution_count": null,
      "outputs": [
        {
          "output_type": "execute_result",
          "data": {
            "text/html": [
              "<div>\n",
              "<style scoped>\n",
              "    .dataframe tbody tr th:only-of-type {\n",
              "        vertical-align: middle;\n",
              "    }\n",
              "\n",
              "    .dataframe tbody tr th {\n",
              "        vertical-align: top;\n",
              "    }\n",
              "\n",
              "    .dataframe thead th {\n",
              "        text-align: right;\n",
              "    }\n",
              "</style>\n",
              "<table border=\"1\" class=\"dataframe\">\n",
              "  <thead>\n",
              "    <tr style=\"text-align: right;\">\n",
              "      <th></th>\n",
              "      <th>Model</th>\n",
              "    </tr>\n",
              "    <tr>\n",
              "      <th>Score</th>\n",
              "      <th></th>\n",
              "    </tr>\n",
              "  </thead>\n",
              "  <tbody>\n",
              "    <tr>\n",
              "      <th>97.76</th>\n",
              "      <td>Random Forest</td>\n",
              "    </tr>\n",
              "    <tr>\n",
              "      <th>97.76</th>\n",
              "      <td>Decision Tree</td>\n",
              "    </tr>\n",
              "    <tr>\n",
              "      <th>83.73</th>\n",
              "      <td>KNN</td>\n",
              "    </tr>\n",
              "    <tr>\n",
              "      <th>82.27</th>\n",
              "      <td>Multi Layer Perceptron</td>\n",
              "    </tr>\n",
              "    <tr>\n",
              "      <th>80.25</th>\n",
              "      <td>Logistic Regression</td>\n",
              "    </tr>\n",
              "    <tr>\n",
              "      <th>79.24</th>\n",
              "      <td>Naive Bayes</td>\n",
              "    </tr>\n",
              "    <tr>\n",
              "      <th>76.77</th>\n",
              "      <td>Support Vector Machines</td>\n",
              "    </tr>\n",
              "    <tr>\n",
              "      <th>70.93</th>\n",
              "      <td>Stochastic Gradient Decent</td>\n",
              "    </tr>\n",
              "    <tr>\n",
              "      <th>63.08</th>\n",
              "      <td>Perceptron</td>\n",
              "    </tr>\n",
              "  </tbody>\n",
              "</table>\n",
              "</div>"
            ],
            "text/plain": [
              "                            Model\n",
              "Score                            \n",
              "97.76               Random Forest\n",
              "97.76               Decision Tree\n",
              "83.73                         KNN\n",
              "82.27      Multi Layer Perceptron\n",
              "80.25         Logistic Regression\n",
              "79.24                 Naive Bayes\n",
              "76.77     Support Vector Machines\n",
              "70.93  Stochastic Gradient Decent\n",
              "63.08                  Perceptron"
            ]
          },
          "metadata": {
            "tags": []
          },
          "execution_count": 64
        }
      ]
    },
    {
      "cell_type": "markdown",
      "metadata": {
        "id": "C-tsDAslxUDb"
      },
      "source": [
        "Como podemos ver o algoritmo **Random Forest** e **Decision Trees** foram os modelos com melhor performance."
      ]
    },
    {
      "cell_type": "markdown",
      "metadata": {
        "id": "uOFfxTDh1hek"
      },
      "source": [
        "### Avaliando Adicional"
      ]
    },
    {
      "cell_type": "code",
      "metadata": {
        "id": "OZdgUR7d2pBf"
      },
      "source": [
        "predictions = cross_val_predict(random_forest, X_train, Y_train, cv=3)"
      ],
      "execution_count": null,
      "outputs": []
    },
    {
      "cell_type": "markdown",
      "metadata": {
        "id": "3bEGY6wTdNqE"
      },
      "source": [
        "#### Montando a Matriz de Confusão\n",
        "\n",
        "Tabela que mostra as frequências de classificação para cada classe do modelo (Taxas de erros e acertos)\n",
        "\n",
        "**Verdadeiro positivo** (true positive — TP): ocorre quando no conjunto real, a classe que estamos buscando foi prevista corretamente. Por exemplo, quando o passagueiro não sobreviveu no naufrágio e o modelo previu corretamente.\n",
        "\n",
        "**Falso positivo** (false positive — FP): ocorre quando no conjunto real, a classe que estamos buscando prever foi prevista incorretamente. Exemplo: o passageiro não sobreviveu no naufrágio e o modelo disse que sobreviveu.\n",
        "\n",
        "**Falso verdadeiro** (true negative — TN): ocorre quando no conjunto real, a classe que não estamos buscando prever foi prevista corretamente. Exemplo: o passageiro não sobreviveu e o modelo previu corretamente que ele não sobreviveu.\n",
        "\n",
        "**Falso negativo** (false negative — FN): ocorre quando no conjunto real, a classe que não estamos buscando prever foi prevista incorretamente. Por exemplo, quando o passageiro não sobreviveu e o modelo previu errado dizendo que ele sobreviveu."
      ]
    },
    {
      "cell_type": "code",
      "metadata": {
        "id": "GmVDZYBLdbJ_",
        "colab": {
          "base_uri": "https://localhost:8080/",
          "height": 432
        },
        "outputId": "34bd2c62-5593-4c4b-bb01-d04d7a3c4932"
      },
      "source": [
        "# Montamos a Matriz de Confusão\n",
        "from sklearn.metrics import plot_confusion_matrix\n",
        "\n",
        "plot_confusion_matrix(decision_tree, X_train, predictions)  \n",
        "# Last thing: evaluation of algorithm performance in classifying flowers\n",
        "c_matrix = confusion_matrix(Y_train,predictions)\n",
        "tn, fp, fn, tp = c_matrix.ravel()\n",
        "print(classification_report(Y_train ,predictions,target_names =['Not Survived','Survived']))"
      ],
      "execution_count": null,
      "outputs": [
        {
          "output_type": "stream",
          "text": [
            "              precision    recall  f1-score   support\n",
            "\n",
            "Not Survived       0.84      0.85      0.84       549\n",
            "    Survived       0.75      0.73      0.74       342\n",
            "\n",
            "    accuracy                           0.80       891\n",
            "   macro avg       0.79      0.79      0.79       891\n",
            "weighted avg       0.80      0.80      0.80       891\n",
            "\n"
          ],
          "name": "stdout"
        },
        {
          "output_type": "display_data",
          "data": {
            "image/png": "[encoded data removed]",
            "text/plain": [
              "<Figure size 432x288 with 2 Axes>"
            ]
          },
          "metadata": {
            "tags": [],
            "needs_background": "light"
          }
        }
      ]
    },
    {
      "cell_type": "markdown",
      "metadata": {
        "id": "R1Sm-1BQjkUt"
      },
      "source": [
        "Agora com a nossa matriz de confusão montada, vamos entender o que os números dizem."
      ]
    },
    {
      "cell_type": "code",
      "metadata": {
        "id": "Gq3epzBPjrzx",
        "colab": {
          "base_uri": "https://localhost:8080/"
        },
        "outputId": "c621031e-d06b-48b6-89da-3b8840fcdf5e"
      },
      "source": [
        "print(\"TP: \",tp)\n",
        "print(\"FN: \",fn)\n",
        "print(\"TN: \",tn)\n",
        "print(\"FP: \",fp)"
      ],
      "execution_count": null,
      "outputs": [
        {
          "output_type": "stream",
          "text": [
            "TP:  250\n",
            "FN:  92\n",
            "TN:  467\n",
            "FP:  82\n"
          ],
          "name": "stdout"
        }
      ]
    },
    {
      "cell_type": "markdown",
      "metadata": {
        "id": "0DigIjC3fr2p"
      },
      "source": [
        "## **Recall** \n",
        "responde a seguinte perguta: Qual a proporção de positivos foi identificados corretamente?\n",
        "É calculado pela seguinte formula.\n",
        "\n",
        "![image.png](data:image/png;base64,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)\n",
        "\n",
        "O Cálculo é definido como a razão entre verdadeiros positivos sobre a soma de verdadeiros positivos com negativos falsos."
      ]
    },
    {
      "cell_type": "code",
      "metadata": {
        "id": "oiWPtt8Fe7kA",
        "colab": {
          "base_uri": "https://localhost:8080/"
        },
        "outputId": "3be387b2-8f2d-4a5e-9849-8bd3b6caaf5e"
      },
      "source": [
        "recall = tp / (tp + fn)\n",
        "recall"
      ],
      "execution_count": null,
      "outputs": [
        {
          "output_type": "execute_result",
          "data": {
            "text/plain": [
              "0.7309941520467836"
            ]
          },
          "metadata": {
            "tags": []
          },
          "execution_count": 68
        }
      ]
    },
    {
      "cell_type": "markdown",
      "metadata": {
        "id": "xQB1eRPvmVeD"
      },
      "source": [
        "Isso quer dizer que o nosso modelo acerta 0.56% como verdadeiro os resultados que são verdadeiros, ou seja é um modelo fraco ainda, nosso modelo só consegue acertar 0.56%.\n"
      ]
    },
    {
      "cell_type": "markdown",
      "metadata": {
        "id": "F992y1RSm7NE"
      },
      "source": [
        "## **Precisão**\n",
        "\n",
        "Também responde a outra pergunta: Qual a proporção de identificações positivas foi realmente correta ou quão bem meu modelo trabalhou. É calculado pela seguinte formula.\n",
        "\n",
        "![image.png](data:image/png;base64,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)\n",
        "\n",
        "O Cálculo é definido como a razão entre verdadeiros positivos sobre a soma de verdadeiros positivos com  falsos."
      ]
    },
    {
      "cell_type": "code",
      "metadata": {
        "id": "zdgJajhPm7lE",
        "colab": {
          "base_uri": "https://localhost:8080/"
        },
        "outputId": "ac81b2ef-5722-489d-e1d1-43dc29ba26ca"
      },
      "source": [
        "precision = tp / (tp + fp)\n",
        "precision"
      ],
      "execution_count": null,
      "outputs": [
        {
          "output_type": "execute_result",
          "data": {
            "text/plain": [
              "0.7530120481927711"
            ]
          },
          "metadata": {
            "tags": []
          },
          "execution_count": 69
        }
      ]
    },
    {
      "cell_type": "markdown",
      "metadata": {
        "id": "5YoXiKaRo-QT"
      },
      "source": [
        "Isso quer dizer que o nosso modelo tem uma precisão de 0.80%, ou seja nosso modelo classificou corretamente 0.80% dos sobreviventes do Naufrágio."
      ]
    },
    {
      "cell_type": "markdown",
      "metadata": {
        "id": "iF8LhtXipA8-"
      },
      "source": [
        "## **Acurácia** \n",
        "Diz quanto o meu modelo acertou das previsões possíveis de Positivos e Negativos corretamente. É calculado pela seguinte formula.\n",
        "\n",
        "![image.png](data:image/png;base64,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)\n"
      ]
    },
    {
      "cell_type": "code",
      "metadata": {
        "id": "9bh6zUQepzID",
        "colab": {
          "base_uri": "https://localhost:8080/"
        },
        "outputId": "8cfeb842-5b3f-448c-df8a-db16cc9ace6d"
      },
      "source": [
        "acurracy = ( tp + tn ) / (tp + fp + tn + fn)\n",
        "acurracy"
      ],
      "execution_count": null,
      "outputs": [
        {
          "output_type": "execute_result",
          "data": {
            "text/plain": [
              "0.8047138047138047"
            ]
          },
          "metadata": {
            "tags": []
          },
          "execution_count": 70
        }
      ]
    },
    {
      "cell_type": "markdown",
      "metadata": {
        "id": "q3zKUGItqeb7"
      },
      "source": [
        "Isso nos mostra que o nosso modelo é razoavelmente bom em **prever** e **acertar** o previsto. Seja o sobrevivente (True or False)"
      ]
    },
    {
      "cell_type": "markdown",
      "metadata": {
        "id": "kM6DSwuHquNh"
      },
      "source": [
        "\n",
        "## **F-Score**\n",
        "É média harmônica entre Precisão e Recall, Sua fórmula é:\n",
        "\n",
        "![image.png](data:image/png;base64,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)\n",
        "\n",
        "A Idéia base do F-Score é indicar uma média que mostre a qualidade geral do seu modelo"
      ]
    },
    {
      "cell_type": "code",
      "metadata": {
        "id": "_eW2d38Do7q3",
        "colab": {
          "base_uri": "https://localhost:8080/"
        },
        "outputId": "5e435278-1691-484e-f47a-b2a33c170adf"
      },
      "source": [
        "fscore  = 2 * ((precision * recall) / (precision + recall))\n",
        "fscore"
      ],
      "execution_count": null,
      "outputs": [
        {
          "output_type": "execute_result",
          "data": {
            "text/plain": [
              "0.741839762611276"
            ]
          },
          "metadata": {
            "tags": []
          },
          "execution_count": 71
        }
      ]
    },
    {
      "cell_type": "markdown",
      "metadata": {
        "id": "Q667SGsytZxC"
      },
      "source": [
        "**Precision Recall Curve**"
      ]
    },
    {
      "cell_type": "markdown",
      "metadata": {
        "id": "n6Tn11Rv3CI3"
      },
      "source": [
        "Para cada pessoa que nosso algoritmo **Random Forest** precisar classificar, ele calcula uma probabilidade baseada em uma função e classifica a pessoa como sobrevivente (quando a pontuação é maior do que o limite) ou como não sobrevivente (quando a pontuação é menor que o limite)."
      ]
    },
    {
      "cell_type": "code",
      "metadata": {
        "id": "vDiOYvWc3f5z"
      },
      "source": [
        "from sklearn.metrics import precision_recall_curve\n",
        "\n",
        "# Obtendo as probabilidades de nossas previsões\n",
        "y_scores = random_forest.predict_proba(X_train)\n",
        "y_scores = y_scores[:,1]\n",
        "\n",
        "precision, recall, threshold = precision_recall_curve(Y_train, y_scores)"
      ],
      "execution_count": null,
      "outputs": []
    },
    {
      "cell_type": "code",
      "metadata": {
        "id": "IuuNCKnJ7UNm",
        "colab": {
          "base_uri": "https://localhost:8080/",
          "height": 564
        },
        "outputId": "8e260fe8-7076-4ca2-ef3f-595d519d4d9a"
      },
      "source": [
        "def plot_precision_and_recall(precision, recall, threshold):\n",
        "    plt.plot(threshold, precision[:-1], \"r-\", label=\"Precision)\", linewidth=5)\n",
        "    plt.plot(threshold, recall[:-1], \"b\", label=\"Recall\", linewidth=5)\n",
        "    plt.xlabel(\"Limit\", fontsize=19)\n",
        "    plt.legend(loc=\"upper right\", fontsize=19)\n",
        "    plt.ylim([0, 1])\n",
        "\n",
        "plt.figure(figsize=(17, 9))\n",
        "plot_precision_and_recall(precision, recall, threshold)\n",
        "plt.show()"
      ],
      "execution_count": null,
      "outputs": [
        {
          "output_type": "display_data",
          "data": {
            "image/png": "[encoded data removed]",
            "text/plain": [
              "<Figure size 1224x648 with 1 Axes>"
            ]
          },
          "metadata": {
            "tags": [],
            "needs_background": "light"
          }
        }
      ]
    },
    {
      "cell_type": "markdown",
      "metadata": {
        "id": "YWRT-sKn7bnp"
      },
      "source": [
        "Acima podemos ver claramente que o **Recall** está caindo consideravelmente com uma **precision** de 85%. Por causa disso, você pode querer selecionar a troca de **precision / recall** antes disso - talvez em torno de 75%\n",
        "\n",
        "Agora você pode escolher um **limit**, que oferece a melhor compensação de **precision / recall** para seu problema atual de ML. Se você quiser, por exemplo, uma **precision** de 80%, você pode facilmente olhar para os gráficos e ver que você precisaria de um **limit** de cerca de 0,4. Então poderiamos treinar um modelo com exatamente esse limite e obteria a precisão desejada."
      ]
    },
    {
      "cell_type": "markdown",
      "metadata": {
        "id": "8pZyN8gw8xCr"
      },
      "source": [
        "**Recall vs Precision**"
      ]
    },
    {
      "cell_type": "code",
      "metadata": {
        "id": "vznynZIE7V_7",
        "colab": {
          "base_uri": "https://localhost:8080/",
          "height": 451
        },
        "outputId": "2f82dd9c-b3b8-472a-9e55-4f853693ea03"
      },
      "source": [
        "def plot_precision_vs_recall(precision, recall):\n",
        "    plt.plot(recall, precision, \"g--\", linewidth=2.5)\n",
        "    plt.ylabel(\"Recall\", fontsize=19)\n",
        "    plt.xlabel(\"Precision\", fontsize=19)\n",
        "    plt.axis([0, 1.5, 0, 1.5])\n",
        "\n",
        "plt.figure(figsize=(14, 7))\n",
        "plot_precision_vs_recall(precision, recall)\n",
        "plt.show()"
      ],
      "execution_count": null,
      "outputs": [
        {
          "output_type": "display_data",
          "data": {
            "image/png": "[encoded data removed]",
            "text/plain": [
              "<Figure size 1008x504 with 1 Axes>"
            ]
          },
          "metadata": {
            "tags": [],
            "needs_background": "light"
          }
        }
      ]
    },
    {
      "cell_type": "markdown",
      "metadata": {
        "id": "-CvZMha482wi"
      },
      "source": [
        "**Curva ROC AUC**"
      ]
    },
    {
      "cell_type": "markdown",
      "metadata": {
        "id": "J715TMWk86Ur"
      },
      "source": [
        "Outra forma de avaliar e comparar nosso modelo de classificação é utilizar Curva ROC AUC. Esta curva representa o **recall vs a taxa de falsos positivos** (proporção de instâncias negativas incorretamente classificadas), em vez de traçar a **precision vs recall**."
      ]
    },
    {
      "cell_type": "code",
      "metadata": {
        "id": "vzUv_T818jtx"
      },
      "source": [
        "from sklearn.metrics import roc_curve\n",
        "# calcular taxa positiva verdadeira e taxa de falsos positivos\n",
        "false_positive_rate, true_positive_rate, thresholds = roc_curve(Y_train, y_scores)"
      ],
      "execution_count": null,
      "outputs": []
    },
    {
      "cell_type": "code",
      "metadata": {
        "id": "YhhL3S0Q-K6L",
        "colab": {
          "base_uri": "https://localhost:8080/",
          "height": 451
        },
        "outputId": "9a788cf1-55bc-4b16-ae87-499a3d990d41"
      },
      "source": [
        "# plotando  a Curva ROC AUC\n",
        "def plot_roc_curve(false_positive_rate, true_positive_rate, label=None):\n",
        "    plt.plot(false_positive_rate, true_positive_rate, linewidth=2, label=label)\n",
        "    plt.plot([0, 1], [0, 1], 'r', linewidth=4)\n",
        "    plt.axis([0, 1, 0, 1])\n",
        "    plt.xlabel('Taxa de Falsos Positivos', fontsize=16)\n",
        "    plt.ylabel('Taxa de Verdaeiros Positivos', fontsize=16)\n",
        "\n",
        "plt.figure(figsize=(14, 7))\n",
        "plot_roc_curve(false_positive_rate, true_positive_rate)\n",
        "plt.show()"
      ],
      "execution_count": null,
      "outputs": [
        {
          "output_type": "display_data",
          "data": {
            "image/png": "[encoded data removed]",
            "text/plain": [
              "<Figure size 1008x504 with 1 Axes>"
            ]
          },
          "metadata": {
            "tags": [],
            "needs_background": "light"
          }
        }
      ]
    },
    {
      "cell_type": "markdown",
      "metadata": {
        "id": "zYv5Szn4-RjE"
      },
      "source": [
        "A linha vermelha no meio representa um classificador puramente aleatório e, portanto, e o nosso  classificador deve estar o mais longe possível. Nosso modelo Random Forest parece ter se comportado como esperado."
      ]
    },
    {
      "cell_type": "markdown",
      "metadata": {
        "id": "KALaR0DF-fwg"
      },
      "source": [
        "**ROC AUC Score**"
      ]
    },
    {
      "cell_type": "markdown",
      "metadata": {
        "id": "7HUPrslP-jec"
      },
      "source": [
        "\n",
        "A ROC AUC Score é a pontuação correspondente à Curva ROC AUC. É calculado simplesmente medindo a área sob a curva, que é chamada de AUC.\n",
        "\n",
        "Um classificador 100% correto teria uma pontuação AUC ROC de 1 e um classificador completamente aleatório teria uma pontuação de 0,5."
      ]
    },
    {
      "cell_type": "code",
      "metadata": {
        "id": "7f-PsBL5-MRv",
        "colab": {
          "base_uri": "https://localhost:8080/"
        },
        "outputId": "bbebb0c4-8321-47cc-a82e-7c748c447824"
      },
      "source": [
        "from sklearn.metrics import roc_auc_score\n",
        "r_a_score = roc_auc_score(Y_train, y_scores)\n",
        "print(\"ROC-AUC-Score:\", r_a_score)"
      ],
      "execution_count": null,
      "outputs": [
        {
          "output_type": "stream",
          "text": [
            "ROC-AUC-Score: 0.9966952140521309\n"
          ],
          "name": "stdout"
        }
      ]
    },
    {
      "cell_type": "code",
      "metadata": {
        "id": "sC0Q133RnGig"
      },
      "source": [
        "Y_prediction = random_forest.predict(X_test)"
      ],
      "execution_count": null,
      "outputs": []
    },
    {
      "cell_type": "code",
      "metadata": {
        "colab": {
          "base_uri": "https://localhost:8080/"
        },
        "id": "XcB14--3nr2t",
        "outputId": "726f69f1-5423-4922-979d-f68c803c3b39"
      },
      "source": [
        "Y_prediction"
      ],
      "execution_count": null,
      "outputs": [
        {
          "output_type": "execute_result",
          "data": {
            "text/plain": [
              "array([0, 0, 0, 1, 1, 0, 0, 0, 1, 0, 0, 0, 1, 0, 1, 1, 0, 1, 0, 0, 1, 0,\n",
              "       1, 1, 1, 0, 1, 1, 1, 0, 0, 0, 1, 0, 1, 1, 0, 0, 0, 1, 0, 1, 0, 1,\n",
              "       1, 0, 0, 0, 1, 1, 1, 0, 1, 1, 0, 0, 0, 0, 0, 1, 0, 0, 0, 1, 1, 1,\n",
              "       1, 0, 0, 1, 1, 0, 0, 0, 1, 0, 0, 1, 0, 1, 1, 0, 0, 0, 0, 0, 1, 0,\n",
              "       1, 1, 0, 1, 1, 0, 0, 0, 1, 0, 0, 0, 1, 0, 0, 0, 1, 0, 0, 0, 1, 0,\n",
              "       0, 1, 1, 1, 1, 0, 0, 1, 0, 1, 1, 0, 1, 0, 0, 1, 0, 1, 0, 0, 1, 0,\n",
              "       0, 0, 0, 0, 0, 0, 0, 0, 0, 1, 0, 0, 1, 0, 0, 0, 1, 0, 1, 0, 0, 1,\n",
              "       0, 0, 1, 1, 1, 1, 1, 1, 1, 1, 0, 0, 0, 0, 1, 0, 0, 0, 0, 0, 0, 1,\n",
              "       1, 1, 1, 1, 0, 0, 1, 0, 1, 0, 1, 0, 0, 0, 0, 0, 1, 0, 1, 0, 1, 0,\n",
              "       0, 0, 1, 1, 0, 1, 0, 0, 0, 0, 1, 0, 0, 0, 0, 0, 0, 0, 1, 0, 1, 0,\n",
              "       1, 0, 1, 1, 1, 0, 0, 1, 0, 0, 0, 1, 0, 0, 1, 0, 1, 1, 1, 1, 1, 1,\n",
              "       0, 0, 0, 0, 1, 0, 1, 0, 1, 0, 0, 0, 0, 0, 0, 0, 1, 0, 0, 0, 1, 1,\n",
              "       0, 0, 0, 0, 0, 0, 0, 0, 1, 1, 0, 1, 0, 0, 0, 0, 0, 1, 1, 0, 1, 0,\n",
              "       1, 0, 0, 0, 0, 0, 0, 0, 0, 0, 1, 0, 0, 0, 0, 0, 0, 0, 1, 1, 1, 1,\n",
              "       0, 0, 0, 1, 0, 0, 1, 1, 0, 0, 0, 0, 0, 0, 0, 1, 1, 0, 1, 0, 0, 0,\n",
              "       1, 1, 0, 0, 0, 0, 1, 0, 0, 0, 0, 0, 0, 1, 0, 1, 0, 0, 0, 1, 1, 0,\n",
              "       0, 0, 1, 0, 1, 0, 0, 1, 0, 1, 1, 1, 1, 0, 0, 0, 1, 1, 0, 1, 0, 0,\n",
              "       1, 1, 0, 0, 0, 0, 0, 0, 0, 0, 0, 1, 0, 0, 0, 0, 0, 1, 0, 0, 0, 1,\n",
              "       0, 1, 0, 0, 1, 0, 1, 0, 0, 0, 0, 0, 1, 1, 1, 1, 0, 0, 1, 0, 0, 1])"
            ]
          },
          "metadata": {
            "tags": []
          },
          "execution_count": 80
        }
      ]
    },
    {
      "cell_type": "code",
      "metadata": {
        "id": "gKhSFxwk-o9M",
        "colab": {
          "base_uri": "https://localhost:8080/",
          "height": 359
        },
        "outputId": "739f50ef-6e0f-4ef7-9136-e28549348210"
      },
      "source": [
        "submission_df = pd.DataFrame(columns=['PassengerId', 'Survived'])\n",
        "submission_df['PassengerId'] = test_df['PassengerId']\n",
        "submission_df['Survived'] = Y_prediction\n",
        "submission_df.to_csv('submissions.csv', header=True, index=False)\n",
        "submission_df.head(10)"
      ],
      "execution_count": null,
      "outputs": [
        {
          "output_type": "execute_result",
          "data": {
            "text/html": [
              "<div>\n",
              "<style scoped>\n",
              "    .dataframe tbody tr th:only-of-type {\n",
              "        vertical-align: middle;\n",
              "    }\n",
              "\n",
              "    .dataframe tbody tr th {\n",
              "        vertical-align: top;\n",
              "    }\n",
              "\n",
              "    .dataframe thead th {\n",
              "        text-align: right;\n",
              "    }\n",
              "</style>\n",
              "<table border=\"1\" class=\"dataframe\">\n",
              "  <thead>\n",
              "    <tr style=\"text-align: right;\">\n",
              "      <th></th>\n",
              "      <th>PassengerId</th>\n",
              "      <th>Survived</th>\n",
              "    </tr>\n",
              "  </thead>\n",
              "  <tbody>\n",
              "    <tr>\n",
              "      <th>0</th>\n",
              "      <td>892</td>\n",
              "      <td>0</td>\n",
              "    </tr>\n",
              "    <tr>\n",
              "      <th>1</th>\n",
              "      <td>893</td>\n",
              "      <td>0</td>\n",
              "    </tr>\n",
              "    <tr>\n",
              "      <th>2</th>\n",
              "      <td>894</td>\n",
              "      <td>0</td>\n",
              "    </tr>\n",
              "    <tr>\n",
              "      <th>3</th>\n",
              "      <td>895</td>\n",
              "      <td>1</td>\n",
              "    </tr>\n",
              "    <tr>\n",
              "      <th>4</th>\n",
              "      <td>896</td>\n",
              "      <td>1</td>\n",
              "    </tr>\n",
              "    <tr>\n",
              "      <th>5</th>\n",
              "      <td>897</td>\n",
              "      <td>0</td>\n",
              "    </tr>\n",
              "    <tr>\n",
              "      <th>6</th>\n",
              "      <td>898</td>\n",
              "      <td>0</td>\n",
              "    </tr>\n",
              "    <tr>\n",
              "      <th>7</th>\n",
              "      <td>899</td>\n",
              "      <td>0</td>\n",
              "    </tr>\n",
              "    <tr>\n",
              "      <th>8</th>\n",
              "      <td>900</td>\n",
              "      <td>1</td>\n",
              "    </tr>\n",
              "    <tr>\n",
              "      <th>9</th>\n",
              "      <td>901</td>\n",
              "      <td>0</td>\n",
              "    </tr>\n",
              "  </tbody>\n",
              "</table>\n",
              "</div>"
            ],
            "text/plain": [
              "   PassengerId  Survived\n",
              "0          892         0\n",
              "1          893         0\n",
              "2          894         0\n",
              "3          895         1\n",
              "4          896         1\n",
              "5          897         0\n",
              "6          898         0\n",
              "7          899         0\n",
              "8          900         1\n",
              "9          901         0"
            ]
          },
          "metadata": {
            "tags": []
          },
          "execution_count": 81
        }
      ]
    },
    {
      "cell_type": "code",
      "metadata": {
        "id": "H1EGR_j8ntMK"
      },
      "source": [
        ""
      ],
      "execution_count": null,
      "outputs": []
    }
  ]
}